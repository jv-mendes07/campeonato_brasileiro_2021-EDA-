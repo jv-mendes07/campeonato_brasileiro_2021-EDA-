{
  "cells": [
    {
      "cell_type": "markdown",
      "metadata": {
        "id": "view-in-github",
        "colab_type": "text"
      },
      "source": [
        "<a href=\"https://colab.research.google.com/github/jv-mendes07/campeonato_brasileiro_2021-EDA-/blob/main/Premier_League_(21_22).ipynb\" target=\"_parent\"><img src=\"https://colab.research.google.com/assets/colab-badge.svg\" alt=\"Open In Colab\"/></a>"
      ]
    },
    {
      "cell_type": "markdown",
      "metadata": {
        "id": "x1jDJnbB0QIe"
      },
      "source": [
        "# Análise Exploratória da Premier League (2021-2022)"
      ]
    },
    {
      "cell_type": "code",
      "execution_count": 4,
      "metadata": {
        "id": "UYOU2SL_u9HF"
      },
      "outputs": [],
      "source": [
        "# Importação das bibliotecas:\n",
        "\n",
        "import pandas as pd\n",
        "import numpy as np\n",
        "import matplotlib.pyplot as plt\n",
        "import seaborn as sns"
      ]
    },
    {
      "cell_type": "code",
      "execution_count": 5,
      "metadata": {
        "id": "XzZC8lf6vLBU"
      },
      "outputs": [],
      "source": [
        "# Importação do dataset para a análise:\n",
        "\n",
        "df = pd.read_csv('/content/drive/MyDrive/soccer21-22.csv')"
      ]
    },
    {
      "cell_type": "code",
      "execution_count": 6,
      "metadata": {
        "colab": {
          "base_uri": "https://localhost:8080/",
          "height": 236
        },
        "id": "BPv96VhKvSsv",
        "outputId": "836d9e93-86df-4b7a-a0b6-81b02aa4f38c"
      },
      "outputs": [
        {
          "output_type": "execute_result",
          "data": {
            "text/plain": [
              "         Date    HomeTeam        AwayTeam  FTHG  FTAG FTR  HTHG  HTAG HTR  \\\n",
              "0  13/08/2021   Brentford         Arsenal     2     0   H     1     0   H   \n",
              "1  14/08/2021  Man United           Leeds     5     1   H     1     0   H   \n",
              "2  14/08/2021     Burnley        Brighton     1     2   A     1     0   H   \n",
              "3  14/08/2021     Chelsea  Crystal Palace     3     0   H     2     0   H   \n",
              "4  14/08/2021     Everton     Southampton     3     1   H     0     1   A   \n",
              "\n",
              "     Referee  ...  HST  AST  HF  AF  HC  AC  HY  AY  HR  AR  \n",
              "0   M Oliver  ...    3    4  12   8   2   5   0   0   0   0  \n",
              "1  P Tierney  ...    8    3  11   9   5   4   1   2   0   0  \n",
              "2    D Coote  ...    3    8  10   7   7   6   2   1   0   0  \n",
              "3     J Moss  ...    6    1  15  11   5   2   0   0   0   0  \n",
              "4   A Madley  ...    6    3  13  15   6   8   2   0   0   0  \n",
              "\n",
              "[5 rows x 22 columns]"
            ],
            "text/html": [
              "\n",
              "  <div id=\"df-bb7bb730-d966-49c0-a84d-870f87e4cf9c\">\n",
              "    <div class=\"colab-df-container\">\n",
              "      <div>\n",
              "<style scoped>\n",
              "    .dataframe tbody tr th:only-of-type {\n",
              "        vertical-align: middle;\n",
              "    }\n",
              "\n",
              "    .dataframe tbody tr th {\n",
              "        vertical-align: top;\n",
              "    }\n",
              "\n",
              "    .dataframe thead th {\n",
              "        text-align: right;\n",
              "    }\n",
              "</style>\n",
              "<table border=\"1\" class=\"dataframe\">\n",
              "  <thead>\n",
              "    <tr style=\"text-align: right;\">\n",
              "      <th></th>\n",
              "      <th>Date</th>\n",
              "      <th>HomeTeam</th>\n",
              "      <th>AwayTeam</th>\n",
              "      <th>FTHG</th>\n",
              "      <th>FTAG</th>\n",
              "      <th>FTR</th>\n",
              "      <th>HTHG</th>\n",
              "      <th>HTAG</th>\n",
              "      <th>HTR</th>\n",
              "      <th>Referee</th>\n",
              "      <th>...</th>\n",
              "      <th>HST</th>\n",
              "      <th>AST</th>\n",
              "      <th>HF</th>\n",
              "      <th>AF</th>\n",
              "      <th>HC</th>\n",
              "      <th>AC</th>\n",
              "      <th>HY</th>\n",
              "      <th>AY</th>\n",
              "      <th>HR</th>\n",
              "      <th>AR</th>\n",
              "    </tr>\n",
              "  </thead>\n",
              "  <tbody>\n",
              "    <tr>\n",
              "      <th>0</th>\n",
              "      <td>13/08/2021</td>\n",
              "      <td>Brentford</td>\n",
              "      <td>Arsenal</td>\n",
              "      <td>2</td>\n",
              "      <td>0</td>\n",
              "      <td>H</td>\n",
              "      <td>1</td>\n",
              "      <td>0</td>\n",
              "      <td>H</td>\n",
              "      <td>M Oliver</td>\n",
              "      <td>...</td>\n",
              "      <td>3</td>\n",
              "      <td>4</td>\n",
              "      <td>12</td>\n",
              "      <td>8</td>\n",
              "      <td>2</td>\n",
              "      <td>5</td>\n",
              "      <td>0</td>\n",
              "      <td>0</td>\n",
              "      <td>0</td>\n",
              "      <td>0</td>\n",
              "    </tr>\n",
              "    <tr>\n",
              "      <th>1</th>\n",
              "      <td>14/08/2021</td>\n",
              "      <td>Man United</td>\n",
              "      <td>Leeds</td>\n",
              "      <td>5</td>\n",
              "      <td>1</td>\n",
              "      <td>H</td>\n",
              "      <td>1</td>\n",
              "      <td>0</td>\n",
              "      <td>H</td>\n",
              "      <td>P Tierney</td>\n",
              "      <td>...</td>\n",
              "      <td>8</td>\n",
              "      <td>3</td>\n",
              "      <td>11</td>\n",
              "      <td>9</td>\n",
              "      <td>5</td>\n",
              "      <td>4</td>\n",
              "      <td>1</td>\n",
              "      <td>2</td>\n",
              "      <td>0</td>\n",
              "      <td>0</td>\n",
              "    </tr>\n",
              "    <tr>\n",
              "      <th>2</th>\n",
              "      <td>14/08/2021</td>\n",
              "      <td>Burnley</td>\n",
              "      <td>Brighton</td>\n",
              "      <td>1</td>\n",
              "      <td>2</td>\n",
              "      <td>A</td>\n",
              "      <td>1</td>\n",
              "      <td>0</td>\n",
              "      <td>H</td>\n",
              "      <td>D Coote</td>\n",
              "      <td>...</td>\n",
              "      <td>3</td>\n",
              "      <td>8</td>\n",
              "      <td>10</td>\n",
              "      <td>7</td>\n",
              "      <td>7</td>\n",
              "      <td>6</td>\n",
              "      <td>2</td>\n",
              "      <td>1</td>\n",
              "      <td>0</td>\n",
              "      <td>0</td>\n",
              "    </tr>\n",
              "    <tr>\n",
              "      <th>3</th>\n",
              "      <td>14/08/2021</td>\n",
              "      <td>Chelsea</td>\n",
              "      <td>Crystal Palace</td>\n",
              "      <td>3</td>\n",
              "      <td>0</td>\n",
              "      <td>H</td>\n",
              "      <td>2</td>\n",
              "      <td>0</td>\n",
              "      <td>H</td>\n",
              "      <td>J Moss</td>\n",
              "      <td>...</td>\n",
              "      <td>6</td>\n",
              "      <td>1</td>\n",
              "      <td>15</td>\n",
              "      <td>11</td>\n",
              "      <td>5</td>\n",
              "      <td>2</td>\n",
              "      <td>0</td>\n",
              "      <td>0</td>\n",
              "      <td>0</td>\n",
              "      <td>0</td>\n",
              "    </tr>\n",
              "    <tr>\n",
              "      <th>4</th>\n",
              "      <td>14/08/2021</td>\n",
              "      <td>Everton</td>\n",
              "      <td>Southampton</td>\n",
              "      <td>3</td>\n",
              "      <td>1</td>\n",
              "      <td>H</td>\n",
              "      <td>0</td>\n",
              "      <td>1</td>\n",
              "      <td>A</td>\n",
              "      <td>A Madley</td>\n",
              "      <td>...</td>\n",
              "      <td>6</td>\n",
              "      <td>3</td>\n",
              "      <td>13</td>\n",
              "      <td>15</td>\n",
              "      <td>6</td>\n",
              "      <td>8</td>\n",
              "      <td>2</td>\n",
              "      <td>0</td>\n",
              "      <td>0</td>\n",
              "      <td>0</td>\n",
              "    </tr>\n",
              "  </tbody>\n",
              "</table>\n",
              "<p>5 rows × 22 columns</p>\n",
              "</div>\n",
              "      <button class=\"colab-df-convert\" onclick=\"convertToInteractive('df-bb7bb730-d966-49c0-a84d-870f87e4cf9c')\"\n",
              "              title=\"Convert this dataframe to an interactive table.\"\n",
              "              style=\"display:none;\">\n",
              "        \n",
              "  <svg xmlns=\"http://www.w3.org/2000/svg\" height=\"24px\"viewBox=\"0 0 24 24\"\n",
              "       width=\"24px\">\n",
              "    <path d=\"M0 0h24v24H0V0z\" fill=\"none\"/>\n",
              "    <path d=\"M18.56 5.44l.94 2.06.94-2.06 2.06-.94-2.06-.94-.94-2.06-.94 2.06-2.06.94zm-11 1L8.5 8.5l.94-2.06 2.06-.94-2.06-.94L8.5 2.5l-.94 2.06-2.06.94zm10 10l.94 2.06.94-2.06 2.06-.94-2.06-.94-.94-2.06-.94 2.06-2.06.94z\"/><path d=\"M17.41 7.96l-1.37-1.37c-.4-.4-.92-.59-1.43-.59-.52 0-1.04.2-1.43.59L10.3 9.45l-7.72 7.72c-.78.78-.78 2.05 0 2.83L4 21.41c.39.39.9.59 1.41.59.51 0 1.02-.2 1.41-.59l7.78-7.78 2.81-2.81c.8-.78.8-2.07 0-2.86zM5.41 20L4 18.59l7.72-7.72 1.47 1.35L5.41 20z\"/>\n",
              "  </svg>\n",
              "      </button>\n",
              "      \n",
              "  <style>\n",
              "    .colab-df-container {\n",
              "      display:flex;\n",
              "      flex-wrap:wrap;\n",
              "      gap: 12px;\n",
              "    }\n",
              "\n",
              "    .colab-df-convert {\n",
              "      background-color: #E8F0FE;\n",
              "      border: none;\n",
              "      border-radius: 50%;\n",
              "      cursor: pointer;\n",
              "      display: none;\n",
              "      fill: #1967D2;\n",
              "      height: 32px;\n",
              "      padding: 0 0 0 0;\n",
              "      width: 32px;\n",
              "    }\n",
              "\n",
              "    .colab-df-convert:hover {\n",
              "      background-color: #E2EBFA;\n",
              "      box-shadow: 0px 1px 2px rgba(60, 64, 67, 0.3), 0px 1px 3px 1px rgba(60, 64, 67, 0.15);\n",
              "      fill: #174EA6;\n",
              "    }\n",
              "\n",
              "    [theme=dark] .colab-df-convert {\n",
              "      background-color: #3B4455;\n",
              "      fill: #D2E3FC;\n",
              "    }\n",
              "\n",
              "    [theme=dark] .colab-df-convert:hover {\n",
              "      background-color: #434B5C;\n",
              "      box-shadow: 0px 1px 3px 1px rgba(0, 0, 0, 0.15);\n",
              "      filter: drop-shadow(0px 1px 2px rgba(0, 0, 0, 0.3));\n",
              "      fill: #FFFFFF;\n",
              "    }\n",
              "  </style>\n",
              "\n",
              "      <script>\n",
              "        const buttonEl =\n",
              "          document.querySelector('#df-bb7bb730-d966-49c0-a84d-870f87e4cf9c button.colab-df-convert');\n",
              "        buttonEl.style.display =\n",
              "          google.colab.kernel.accessAllowed ? 'block' : 'none';\n",
              "\n",
              "        async function convertToInteractive(key) {\n",
              "          const element = document.querySelector('#df-bb7bb730-d966-49c0-a84d-870f87e4cf9c');\n",
              "          const dataTable =\n",
              "            await google.colab.kernel.invokeFunction('convertToInteractive',\n",
              "                                                     [key], {});\n",
              "          if (!dataTable) return;\n",
              "\n",
              "          const docLinkHtml = 'Like what you see? Visit the ' +\n",
              "            '<a target=\"_blank\" href=https://colab.research.google.com/notebooks/data_table.ipynb>data table notebook</a>'\n",
              "            + ' to learn more about interactive tables.';\n",
              "          element.innerHTML = '';\n",
              "          dataTable['output_type'] = 'display_data';\n",
              "          await google.colab.output.renderOutput(dataTable, element);\n",
              "          const docLink = document.createElement('div');\n",
              "          docLink.innerHTML = docLinkHtml;\n",
              "          element.appendChild(docLink);\n",
              "        }\n",
              "      </script>\n",
              "    </div>\n",
              "  </div>\n",
              "  "
            ]
          },
          "metadata": {},
          "execution_count": 6
        }
      ],
      "source": [
        "# Visualização breve das cinco primeiras linhas do dataset:\n",
        "\n",
        "df.head()"
      ]
    },
    {
      "cell_type": "code",
      "execution_count": 7,
      "metadata": {
        "id": "MT-17ppRvTq4"
      },
      "outputs": [],
      "source": [
        "# Quantidade de linhas e colunas atribuídas à variáveis diferentes:\n",
        "\n",
        "l, c = df.shape"
      ]
    },
    {
      "cell_type": "code",
      "execution_count": 8,
      "metadata": {
        "colab": {
          "base_uri": "https://localhost:8080/"
        },
        "id": "sqlkLpqyva8Z",
        "outputId": "dc364e93-6f59-43e0-b146-3118d215d420"
      },
      "outputs": [
        {
          "output_type": "stream",
          "name": "stdout",
          "text": [
            "Quantidade de Linhas: 380\n",
            "\n",
            "\n",
            "Quantidade de Colunas: 22\n"
          ]
        }
      ],
      "source": [
        "# Impressão visual da quantidade de linhas e de colunas presentes no dataset:\n",
        "\n",
        "print(f'Quantidade de Linhas: {l}')\n",
        "print('\\n')\n",
        "print('Quantidade de Colunas: {0}'.format(c))"
      ]
    },
    {
      "cell_type": "code",
      "execution_count": 9,
      "metadata": {
        "colab": {
          "base_uri": "https://localhost:8080/"
        },
        "id": "wkaxG36evl-V",
        "outputId": "4af4bf8c-ad1a-4925-e6b0-29f37602e93a"
      },
      "outputs": [
        {
          "output_type": "stream",
          "name": "stdout",
          "text": [
            "<class 'pandas.core.frame.DataFrame'>\n",
            "RangeIndex: 380 entries, 0 to 379\n",
            "Data columns (total 22 columns):\n",
            " #   Column    Non-Null Count  Dtype \n",
            "---  ------    --------------  ----- \n",
            " 0   Date      380 non-null    object\n",
            " 1   HomeTeam  380 non-null    object\n",
            " 2   AwayTeam  380 non-null    object\n",
            " 3   FTHG      380 non-null    int64 \n",
            " 4   FTAG      380 non-null    int64 \n",
            " 5   FTR       380 non-null    object\n",
            " 6   HTHG      380 non-null    int64 \n",
            " 7   HTAG      380 non-null    int64 \n",
            " 8   HTR       380 non-null    object\n",
            " 9   Referee   380 non-null    object\n",
            " 10  HS        380 non-null    int64 \n",
            " 11  AS        380 non-null    int64 \n",
            " 12  HST       380 non-null    int64 \n",
            " 13  AST       380 non-null    int64 \n",
            " 14  HF        380 non-null    int64 \n",
            " 15  AF        380 non-null    int64 \n",
            " 16  HC        380 non-null    int64 \n",
            " 17  AC        380 non-null    int64 \n",
            " 18  HY        380 non-null    int64 \n",
            " 19  AY        380 non-null    int64 \n",
            " 20  HR        380 non-null    int64 \n",
            " 21  AR        380 non-null    int64 \n",
            "dtypes: int64(16), object(6)\n",
            "memory usage: 65.4+ KB\n"
          ]
        }
      ],
      "source": [
        "# Informações gerais do conjunto de dados:\n",
        "\n",
        "df.info()"
      ]
    },
    {
      "cell_type": "markdown",
      "metadata": {
        "id": "pz6pWCt40bzg"
      },
      "source": [
        "### (1) Tratamento e limpeza dos dados:"
      ]
    },
    {
      "cell_type": "code",
      "execution_count": 10,
      "metadata": {
        "id": "V5ENghikxonN"
      },
      "outputs": [],
      "source": [
        "# Exclusão de colunas que não são relevantes para a análise:\n",
        "\n",
        "df.drop(columns = ['HTHG', 'HTAG', 'HTR', 'HST', 'AST'], inplace = True)"
      ]
    },
    {
      "cell_type": "code",
      "execution_count": 11,
      "metadata": {
        "id": "uXMVNrRHvn8w"
      },
      "outputs": [],
      "source": [
        "# Renomeação das colunas, para termos nomes intuitivamente mais compreensíveis:\n",
        "\n",
        "df.rename(columns = {\n",
        "    'FTHG': 'home_goals',\n",
        "    'FTAG': 'away_goals',\n",
        "    'FTR': 'result',\n",
        "    'HS': 'home_shots',\n",
        "    'AS': 'away_shots',\n",
        "    'HF': 'home_fouls',\n",
        "    'AF': 'away_fouls',\n",
        "    'HC': 'home_corners',\n",
        "    'AC': 'away_corners',\n",
        "    'HY': 'home_yellow_cards',\n",
        "    'AY': 'away_yellow_cards',\n",
        "    'HR': 'home_red_cards',\n",
        "    'AR': 'away_red_cards'        \n",
        "}, inplace = True)"
      ]
    },
    {
      "cell_type": "code",
      "execution_count": 12,
      "metadata": {
        "id": "ywcxJBF9zD5I"
      },
      "outputs": [],
      "source": [
        "# Reformatação textual do nome das colunas, para que tais nomes estejam somente com letras minúsculas:\n",
        "\n",
        "df.columns = df.columns.str.lower()"
      ]
    },
    {
      "cell_type": "code",
      "execution_count": 13,
      "metadata": {
        "colab": {
          "base_uri": "https://localhost:8080/"
        },
        "id": "nDhlrt4LzIb6",
        "outputId": "e59ffdd1-c589-4c67-fdc2-942e0a29f81b"
      },
      "outputs": [
        {
          "output_type": "execute_result",
          "data": {
            "text/plain": [
              "Index(['date', 'hometeam', 'awayteam', 'home_goals', 'away_goals', 'result',\n",
              "       'referee', 'home_shots', 'away_shots', 'home_fouls', 'away_fouls',\n",
              "       'home_corners', 'away_corners', 'home_yellow_cards',\n",
              "       'away_yellow_cards', 'home_red_cards', 'away_red_cards'],\n",
              "      dtype='object')"
            ]
          },
          "metadata": {},
          "execution_count": 13
        }
      ],
      "source": [
        "# Verificação de que tal renomeação e formatação textual foram efetivadas:\n",
        "\n",
        "df.columns"
      ]
    },
    {
      "cell_type": "code",
      "execution_count": 14,
      "metadata": {
        "colab": {
          "base_uri": "https://localhost:8080/"
        },
        "id": "8wZOwkt_zWlE",
        "outputId": "6800d591-b713-482c-ef3a-89cd0be987c1"
      },
      "outputs": [
        {
          "output_type": "execute_result",
          "data": {
            "text/plain": [
              "date                 object\n",
              "hometeam             object\n",
              "awayteam             object\n",
              "home_goals            int64\n",
              "away_goals            int64\n",
              "result               object\n",
              "referee              object\n",
              "home_shots            int64\n",
              "away_shots            int64\n",
              "home_fouls            int64\n",
              "away_fouls            int64\n",
              "home_corners          int64\n",
              "away_corners          int64\n",
              "home_yellow_cards     int64\n",
              "away_yellow_cards     int64\n",
              "home_red_cards        int64\n",
              "away_red_cards        int64\n",
              "dtype: object"
            ]
          },
          "metadata": {},
          "execution_count": 14
        }
      ],
      "source": [
        "# Tipos de dados das colunas:\n",
        "\n",
        "df.dtypes"
      ]
    },
    {
      "cell_type": "code",
      "execution_count": 15,
      "metadata": {
        "id": "8hme1_9NzfLp"
      },
      "outputs": [],
      "source": [
        "# Transformação da coluna 'date' de tipo 'object' para o tipo 'datetime', para que possamos utilizar tal coluna relativo\n",
        "# às propriedades de data.\n",
        "\n",
        "df.date = df.date.astype('datetime64[ns]')"
      ]
    },
    {
      "cell_type": "markdown",
      "metadata": {
        "id": "vv77_m3k1r_X"
      },
      "source": [
        "### (2) Exploração dos dados:"
      ]
    },
    {
      "cell_type": "code",
      "execution_count": 16,
      "metadata": {
        "id": "4jCTXiFc10Cg"
      },
      "outputs": [],
      "source": [
        "# Criação de colunas relativas ao total de gols registrados no campeonato e ao acúmulo contínuo de gols por partida durante o campeonato\n",
        "# inglês:\n",
        "\n",
        "df = df.assign(total_goals = df['home_goals'] + df['away_goals'],\n",
        "          acumulative_goals = (df['home_goals'] + df['away_goals']).cumsum())"
      ]
    },
    {
      "cell_type": "markdown",
      "metadata": {
        "id": "VkCkit9x4IdS"
      },
      "source": [
        "#### (1) Durante o campeonato inglês de 2021-2022, houve mais registros de vitórias de times mandantes ou visitantes? E qual foi a quantidade de empates contabilizados?"
      ]
    },
    {
      "cell_type": "code",
      "execution_count": 17,
      "metadata": {
        "colab": {
          "base_uri": "https://localhost:8080/"
        },
        "id": "6iPN2FER2OcN",
        "outputId": "7abf9405-032b-45d7-a39f-8f4cb5acf024"
      },
      "outputs": [
        {
          "output_type": "execute_result",
          "data": {
            "text/plain": [
              "array(['H', 'A', 'D'], dtype=object)"
            ]
          },
          "metadata": {},
          "execution_count": 17
        }
      ],
      "source": [
        "# Verificação de quais são os elementos únicos da coluna 'result':\n",
        "\n",
        "df.result.unique()"
      ]
    },
    {
      "cell_type": "code",
      "execution_count": 18,
      "metadata": {
        "colab": {
          "base_uri": "https://localhost:8080/"
        },
        "id": "_sKnDiP33R5z",
        "outputId": "0a95afb5-6102-4b34-843f-136fdc3cfa50"
      },
      "outputs": [
        {
          "output_type": "execute_result",
          "data": {
            "text/plain": [
              "H    163\n",
              "A    129\n",
              "D     88\n",
              "Name: result, dtype: int64"
            ]
          },
          "metadata": {},
          "execution_count": 18
        }
      ],
      "source": [
        "# Verificação da quantidade de vitórias de mandantes ou visitantes e de empates contabilizados:\n",
        "\n",
        "df.result.value_counts()"
      ]
    },
    {
      "cell_type": "code",
      "execution_count": 19,
      "metadata": {
        "colab": {
          "base_uri": "https://localhost:8080/"
        },
        "id": "QtpCdNiN4hb2",
        "outputId": "a8d82932-ec25-431f-d6f2-373cd5c0c4f3"
      },
      "outputs": [
        {
          "output_type": "execute_result",
          "data": {
            "text/plain": [
              "H    42.89\n",
              "A    33.95\n",
              "D    23.16\n",
              "Name: result, dtype: float64"
            ]
          },
          "metadata": {},
          "execution_count": 19
        }
      ],
      "source": [
        "# % da quantidade de vitórias de times mandantes ou visitantes, e de empates contábeis durante o campeonato:\n",
        "\n",
        "(df.result.value_counts(normalize = True) * 100).round(2)"
      ]
    },
    {
      "cell_type": "code",
      "execution_count": 20,
      "metadata": {
        "colab": {
          "base_uri": "https://localhost:8080/",
          "height": 444
        },
        "id": "eKel9mRN4cba",
        "outputId": "568d551f-1f99-484e-aece-cec9d497dcf6"
      },
      "outputs": [
        {
          "output_type": "display_data",
          "data": {
            "text/plain": [
              "<Figure size 432x504 with 1 Axes>"
            ],
            "image/png": "[encoded data removed]"
          },
          "metadata": {}
        }
      ],
      "source": [
        "# Gráfico de barras horizontais para vermos comparativamente a quantidade de vitórias dos times mandantes e visitantes:\n",
        "\n",
        "sns.set_style('darkgrid')\n",
        "ax = sns.barplot(x = df.result.value_counts().index[:2],\n",
        "                 y = df.result.value_counts().values[:2],\n",
        "                 palette = 'Spectral_r',\n",
        "                 alpha = 0.9)\n",
        "ax.figure.set_size_inches(6, 7)\n",
        "ax.set_xticklabels(['Times Mandantes', 'Times Visitantes'], fontsize = 11, color = 'k')\n",
        "ax.set_yticklabels(list(range(0, 161, 20)), fontsize = 11, color = 'k')\n",
        "ax.set_title('Premier League (2021-2022)', fontsize = 12, color = 'k')\n",
        "ax.set_ylabel('Quantidade de Vitórias', fontsize = 11.5, color = 'k')\n",
        "plt.show()"
      ]
    },
    {
      "cell_type": "code",
      "execution_count": 21,
      "metadata": {
        "colab": {
          "base_uri": "https://localhost:8080/",
          "height": 373
        },
        "id": "zpjvXksz4qe2",
        "outputId": "13217945-aaa5-4a6c-e16a-c1cf38778c94"
      },
      "outputs": [
        {
          "output_type": "display_data",
          "data": {
            "text/plain": [
              "<Figure size 1152x432 with 1 Axes>"
            ],
            "image/png": "[encoded data removed]"
          },
          "metadata": {}
        }
      ],
      "source": [
        "# Gráfico de pizza para visualizarmos comparativamente a proporção de resultados por times de resultados registrados\n",
        "# nas partidas do campeonato inglês:\n",
        "\n",
        "plt.figure(figsize = (16, 6))\n",
        "plt.pie(x = df.result.value_counts(),\n",
        "        labels = ['Vitórias de Times Mandantes', 'Vitórias de Times Visitantes', 'Empates'],\n",
        "        autopct = '%1.1f%%', explode = [0.04, 0, 0],\n",
        "        startangle = 280, textprops = {'fontsize': 11.5,\n",
        "                                       'color': 'k'},\n",
        "        shadow = True, colors = sns.color_palette('Spectral_r'))\n",
        "plt.title('% de Resultados X Tipo de Resultado', fontsize = 12.5, color = 'k');"
      ]
    },
    {
      "cell_type": "markdown",
      "metadata": {
        "id": "sMONSgeBeZ2n"
      },
      "source": [
        "#### (2) Quais foram os times que mais contabilizaram vitórias durante o campeonato?"
      ]
    },
    {
      "cell_type": "code",
      "execution_count": 22,
      "metadata": {
        "colab": {
          "base_uri": "https://localhost:8080/"
        },
        "id": "1sbQtbzjfhwQ",
        "outputId": "a0adb4c7-22e5-48e9-bcaa-e465b3889ab5"
      },
      "outputs": [
        {
          "output_type": "execute_result",
          "data": {
            "text/plain": [
              "array(['Brentford', 'Man United', 'Burnley', 'Chelsea', 'Everton',\n",
              "       'Leicester', 'Watford', 'Norwich', 'Newcastle', 'Tottenham',\n",
              "       'Liverpool', 'Aston Villa', 'Crystal Palace', 'Leeds', 'Man City',\n",
              "       'Brighton', 'Southampton', 'Wolves', 'Arsenal', 'West Ham'],\n",
              "      dtype=object)"
            ]
          },
          "metadata": {},
          "execution_count": 22
        }
      ],
      "source": [
        "# Verificação de quais são os times únicos entre os times mandantes:\n",
        "\n",
        "df.hometeam.unique()"
      ]
    },
    {
      "cell_type": "code",
      "execution_count": 23,
      "metadata": {
        "colab": {
          "base_uri": "https://localhost:8080/"
        },
        "id": "V77MQwYofjTx",
        "outputId": "103aaa24-460a-4103-b7af-9f76c3afb58d"
      },
      "outputs": [
        {
          "output_type": "execute_result",
          "data": {
            "text/plain": [
              "array(['Arsenal', 'Leeds', 'Brighton', 'Crystal Palace', 'Southampton',\n",
              "       'Wolves', 'Aston Villa', 'Liverpool', 'West Ham', 'Man City',\n",
              "       'Burnley', 'Newcastle', 'Brentford', 'Everton', 'Norwich',\n",
              "       'Watford', 'Man United', 'Tottenham', 'Chelsea', 'Leicester'],\n",
              "      dtype=object)"
            ]
          },
          "metadata": {},
          "execution_count": 23
        }
      ],
      "source": [
        "# Verificação de quais são os times únicos entre os times visitantes:\n",
        "\n",
        "df.awayteam.unique()"
      ]
    },
    {
      "cell_type": "code",
      "execution_count": 24,
      "metadata": {
        "colab": {
          "base_uri": "https://localhost:8080/"
        },
        "id": "2k5IsIOfeD8-",
        "outputId": "d7a6dd3e-2b7e-4459-c335-2f794407f6e5"
      },
      "outputs": [
        {
          "output_type": "execute_result",
          "data": {
            "text/plain": [
              "20"
            ]
          },
          "metadata": {},
          "execution_count": 24
        }
      ],
      "source": [
        "# Quantidade de valores únicos da coluna de times mandantes:\n",
        "\n",
        "df.hometeam.nunique()"
      ]
    },
    {
      "cell_type": "code",
      "execution_count": 25,
      "metadata": {
        "colab": {
          "base_uri": "https://localhost:8080/"
        },
        "id": "xwAswPBoeVuu",
        "outputId": "94761765-0cb4-4a96-89d4-bb067eb7498d"
      },
      "outputs": [
        {
          "output_type": "execute_result",
          "data": {
            "text/plain": [
              "20"
            ]
          },
          "metadata": {},
          "execution_count": 25
        }
      ],
      "source": [
        "# Quantidade de valores únicos da coluna de times visitantes:\n",
        "\n",
        "df.awayteam.nunique()"
      ]
    },
    {
      "cell_type": "code",
      "execution_count": 26,
      "metadata": {
        "colab": {
          "base_uri": "https://localhost:8080/"
        },
        "id": "S_7BSLqPS5i2",
        "outputId": "cde3aab8-0c1f-47f2-ef7d-1fdf880d9ac3"
      },
      "outputs": [
        {
          "output_type": "execute_result",
          "data": {
            "text/plain": [
              "292"
            ]
          },
          "metadata": {},
          "execution_count": 26
        }
      ],
      "source": [
        "# Verificação de quantas partidas em que houveram vitórias contabilizadas por times mandantes ou visitantes:\n",
        "\n",
        "df.query('result == \"H\" | result == \"A\"').shape[0]"
      ]
    },
    {
      "cell_type": "code",
      "execution_count": 27,
      "metadata": {
        "id": "kz0Xq838TMdL"
      },
      "outputs": [],
      "source": [
        "# Lista dos vencedores de cada partida:\n",
        "\n",
        "list_winners = list(np.where(df.query('result == \"H\" | result == \"A\"').result == 'H', df.query('result == \"H\" | result == \"A\"'\n",
        ").hometeam, df.query('result == \"H\" | result == \"A\"').awayteam))"
      ]
    },
    {
      "cell_type": "code",
      "execution_count": 28,
      "metadata": {
        "id": "cLMiQDrlq2Tb"
      },
      "outputs": [],
      "source": [
        "# Criação de coluna dos times que venceram cada partida:\n",
        "\n",
        "df.loc[(df['result'] == 'H') | (df['result'] == 'A'), 'winner'] = list_winners"
      ]
    },
    {
      "cell_type": "code",
      "source": [
        "# Agrupamento dos times que mais contabilizaram vitórias no campeonato, organizado em ordem decrescente:\n",
        "\n",
        "df.groupby('winner').agg({'winner': 'size'}).rename(columns = {'winner': 'qtd'}).sort_values('qtd',\n",
        "                                                                                            ascending = False).reset_index()"
      ],
      "metadata": {
        "colab": {
          "base_uri": "https://localhost:8080/",
          "height": 677
        },
        "id": "v9043rFCvTcN",
        "outputId": "818955ae-b7fb-46ef-f307-bf8534776de1"
      },
      "execution_count": 29,
      "outputs": [
        {
          "output_type": "execute_result",
          "data": {
            "text/plain": [
              "            winner  qtd\n",
              "0         Man City   29\n",
              "1        Liverpool   28\n",
              "2        Tottenham   22\n",
              "3          Arsenal   22\n",
              "4          Chelsea   21\n",
              "5       Man United   16\n",
              "6         West Ham   16\n",
              "7           Wolves   15\n",
              "8        Leicester   14\n",
              "9      Aston Villa   13\n",
              "10       Newcastle   13\n",
              "11       Brentford   13\n",
              "12        Brighton   12\n",
              "13  Crystal Palace   11\n",
              "14         Everton   11\n",
              "15           Leeds    9\n",
              "16     Southampton    9\n",
              "17         Burnley    7\n",
              "18         Watford    6\n",
              "19         Norwich    5"
            ],
            "text/html": [
              "\n",
              "  <div id=\"df-81ad51d8-fc4d-40dd-99eb-d6af3516f008\">\n",
              "    <div class=\"colab-df-container\">\n",
              "      <div>\n",
              "<style scoped>\n",
              "    .dataframe tbody tr th:only-of-type {\n",
              "        vertical-align: middle;\n",
              "    }\n",
              "\n",
              "    .dataframe tbody tr th {\n",
              "        vertical-align: top;\n",
              "    }\n",
              "\n",
              "    .dataframe thead th {\n",
              "        text-align: right;\n",
              "    }\n",
              "</style>\n",
              "<table border=\"1\" class=\"dataframe\">\n",
              "  <thead>\n",
              "    <tr style=\"text-align: right;\">\n",
              "      <th></th>\n",
              "      <th>winner</th>\n",
              "      <th>qtd</th>\n",
              "    </tr>\n",
              "  </thead>\n",
              "  <tbody>\n",
              "    <tr>\n",
              "      <th>0</th>\n",
              "      <td>Man City</td>\n",
              "      <td>29</td>\n",
              "    </tr>\n",
              "    <tr>\n",
              "      <th>1</th>\n",
              "      <td>Liverpool</td>\n",
              "      <td>28</td>\n",
              "    </tr>\n",
              "    <tr>\n",
              "      <th>2</th>\n",
              "      <td>Tottenham</td>\n",
              "      <td>22</td>\n",
              "    </tr>\n",
              "    <tr>\n",
              "      <th>3</th>\n",
              "      <td>Arsenal</td>\n",
              "      <td>22</td>\n",
              "    </tr>\n",
              "    <tr>\n",
              "      <th>4</th>\n",
              "      <td>Chelsea</td>\n",
              "      <td>21</td>\n",
              "    </tr>\n",
              "    <tr>\n",
              "      <th>5</th>\n",
              "      <td>Man United</td>\n",
              "      <td>16</td>\n",
              "    </tr>\n",
              "    <tr>\n",
              "      <th>6</th>\n",
              "      <td>West Ham</td>\n",
              "      <td>16</td>\n",
              "    </tr>\n",
              "    <tr>\n",
              "      <th>7</th>\n",
              "      <td>Wolves</td>\n",
              "      <td>15</td>\n",
              "    </tr>\n",
              "    <tr>\n",
              "      <th>8</th>\n",
              "      <td>Leicester</td>\n",
              "      <td>14</td>\n",
              "    </tr>\n",
              "    <tr>\n",
              "      <th>9</th>\n",
              "      <td>Aston Villa</td>\n",
              "      <td>13</td>\n",
              "    </tr>\n",
              "    <tr>\n",
              "      <th>10</th>\n",
              "      <td>Newcastle</td>\n",
              "      <td>13</td>\n",
              "    </tr>\n",
              "    <tr>\n",
              "      <th>11</th>\n",
              "      <td>Brentford</td>\n",
              "      <td>13</td>\n",
              "    </tr>\n",
              "    <tr>\n",
              "      <th>12</th>\n",
              "      <td>Brighton</td>\n",
              "      <td>12</td>\n",
              "    </tr>\n",
              "    <tr>\n",
              "      <th>13</th>\n",
              "      <td>Crystal Palace</td>\n",
              "      <td>11</td>\n",
              "    </tr>\n",
              "    <tr>\n",
              "      <th>14</th>\n",
              "      <td>Everton</td>\n",
              "      <td>11</td>\n",
              "    </tr>\n",
              "    <tr>\n",
              "      <th>15</th>\n",
              "      <td>Leeds</td>\n",
              "      <td>9</td>\n",
              "    </tr>\n",
              "    <tr>\n",
              "      <th>16</th>\n",
              "      <td>Southampton</td>\n",
              "      <td>9</td>\n",
              "    </tr>\n",
              "    <tr>\n",
              "      <th>17</th>\n",
              "      <td>Burnley</td>\n",
              "      <td>7</td>\n",
              "    </tr>\n",
              "    <tr>\n",
              "      <th>18</th>\n",
              "      <td>Watford</td>\n",
              "      <td>6</td>\n",
              "    </tr>\n",
              "    <tr>\n",
              "      <th>19</th>\n",
              "      <td>Norwich</td>\n",
              "      <td>5</td>\n",
              "    </tr>\n",
              "  </tbody>\n",
              "</table>\n",
              "</div>\n",
              "      <button class=\"colab-df-convert\" onclick=\"convertToInteractive('df-81ad51d8-fc4d-40dd-99eb-d6af3516f008')\"\n",
              "              title=\"Convert this dataframe to an interactive table.\"\n",
              "              style=\"display:none;\">\n",
              "        \n",
              "  <svg xmlns=\"http://www.w3.org/2000/svg\" height=\"24px\"viewBox=\"0 0 24 24\"\n",
              "       width=\"24px\">\n",
              "    <path d=\"M0 0h24v24H0V0z\" fill=\"none\"/>\n",
              "    <path d=\"M18.56 5.44l.94 2.06.94-2.06 2.06-.94-2.06-.94-.94-2.06-.94 2.06-2.06.94zm-11 1L8.5 8.5l.94-2.06 2.06-.94-2.06-.94L8.5 2.5l-.94 2.06-2.06.94zm10 10l.94 2.06.94-2.06 2.06-.94-2.06-.94-.94-2.06-.94 2.06-2.06.94z\"/><path d=\"M17.41 7.96l-1.37-1.37c-.4-.4-.92-.59-1.43-.59-.52 0-1.04.2-1.43.59L10.3 9.45l-7.72 7.72c-.78.78-.78 2.05 0 2.83L4 21.41c.39.39.9.59 1.41.59.51 0 1.02-.2 1.41-.59l7.78-7.78 2.81-2.81c.8-.78.8-2.07 0-2.86zM5.41 20L4 18.59l7.72-7.72 1.47 1.35L5.41 20z\"/>\n",
              "  </svg>\n",
              "      </button>\n",
              "      \n",
              "  <style>\n",
              "    .colab-df-container {\n",
              "      display:flex;\n",
              "      flex-wrap:wrap;\n",
              "      gap: 12px;\n",
              "    }\n",
              "\n",
              "    .colab-df-convert {\n",
              "      background-color: #E8F0FE;\n",
              "      border: none;\n",
              "      border-radius: 50%;\n",
              "      cursor: pointer;\n",
              "      display: none;\n",
              "      fill: #1967D2;\n",
              "      height: 32px;\n",
              "      padding: 0 0 0 0;\n",
              "      width: 32px;\n",
              "    }\n",
              "\n",
              "    .colab-df-convert:hover {\n",
              "      background-color: #E2EBFA;\n",
              "      box-shadow: 0px 1px 2px rgba(60, 64, 67, 0.3), 0px 1px 3px 1px rgba(60, 64, 67, 0.15);\n",
              "      fill: #174EA6;\n",
              "    }\n",
              "\n",
              "    [theme=dark] .colab-df-convert {\n",
              "      background-color: #3B4455;\n",
              "      fill: #D2E3FC;\n",
              "    }\n",
              "\n",
              "    [theme=dark] .colab-df-convert:hover {\n",
              "      background-color: #434B5C;\n",
              "      box-shadow: 0px 1px 3px 1px rgba(0, 0, 0, 0.15);\n",
              "      filter: drop-shadow(0px 1px 2px rgba(0, 0, 0, 0.3));\n",
              "      fill: #FFFFFF;\n",
              "    }\n",
              "  </style>\n",
              "\n",
              "      <script>\n",
              "        const buttonEl =\n",
              "          document.querySelector('#df-81ad51d8-fc4d-40dd-99eb-d6af3516f008 button.colab-df-convert');\n",
              "        buttonEl.style.display =\n",
              "          google.colab.kernel.accessAllowed ? 'block' : 'none';\n",
              "\n",
              "        async function convertToInteractive(key) {\n",
              "          const element = document.querySelector('#df-81ad51d8-fc4d-40dd-99eb-d6af3516f008');\n",
              "          const dataTable =\n",
              "            await google.colab.kernel.invokeFunction('convertToInteractive',\n",
              "                                                     [key], {});\n",
              "          if (!dataTable) return;\n",
              "\n",
              "          const docLinkHtml = 'Like what you see? Visit the ' +\n",
              "            '<a target=\"_blank\" href=https://colab.research.google.com/notebooks/data_table.ipynb>data table notebook</a>'\n",
              "            + ' to learn more about interactive tables.';\n",
              "          element.innerHTML = '';\n",
              "          dataTable['output_type'] = 'display_data';\n",
              "          await google.colab.output.renderOutput(dataTable, element);\n",
              "          const docLink = document.createElement('div');\n",
              "          docLink.innerHTML = docLinkHtml;\n",
              "          element.appendChild(docLink);\n",
              "        }\n",
              "      </script>\n",
              "    </div>\n",
              "  </div>\n",
              "  "
            ]
          },
          "metadata": {},
          "execution_count": 29
        }
      ]
    },
    {
      "cell_type": "code",
      "source": [
        "# Gráfico de barras verticais para representar os times que mais contabilizaram vitórias no campeonato inglês:\n",
        "\n",
        "ax = sns.barplot(data = df.groupby('winner').agg({'winner': 'size'}).rename(columns = {'winner': 'qtd'}).sort_values('qtd',\n",
        "                                                                                            ascending = False).reset_index(),\n",
        "                 x = 'qtd', y = 'winner', palette = 'Spectral_r', alpha = 0.9)\n",
        "ax.set_ylabel('')\n",
        "ax.set_yticklabels(df.groupby('winner').agg({'winner': 'size'}).rename(columns = {'winner': 'qtd'}).sort_values('qtd',\n",
        "                      ascending = False).reset_index().winner, fontsize = 11, color = 'k')\n",
        "ax.figure.set_size_inches(12, 5)\n",
        "ax.set_xlabel('Quantidade de Vitórias', fontsize = 12, color = 'k')\n",
        "ax.set_xticklabels(list(range(0, 31, 5)), fontsize = 11, color = 'k')\n",
        "ax.set_title('Quantidade de Vitórias X Time (2021-2022)', fontsize = 13, color = 'k')\n",
        "plt.show()"
      ],
      "metadata": {
        "colab": {
          "base_uri": "https://localhost:8080/",
          "height": 353
        },
        "id": "x5Q6TKB-vluM",
        "outputId": "b9613c56-d443-4d8c-b30f-e7559e63827e"
      },
      "execution_count": 30,
      "outputs": [
        {
          "output_type": "display_data",
          "data": {
            "text/plain": [
              "<Figure size 864x360 with 1 Axes>"
            ],
            "image/png": "[encoded data removed]"
          },
          "metadata": {}
        }
      ]
    },
    {
      "cell_type": "markdown",
      "source": [
        "#### (3) Quais foram os times que mais contabilizaram derrotas durante o campeonato?"
      ],
      "metadata": {
        "id": "uFW4GMWoyD9P"
      }
    },
    {
      "cell_type": "code",
      "source": [
        "# Lista dos times perdedores de cada partida:\n",
        "\n",
        "list_losers = list(np.where(df.query('result == \"H\" | result == \"A\"').result == 'H', df.query('result == \"H\" | result == \"A\"'\n",
        ").awayteam, df.query('result == \"H\" | result == \"A\"').hometeam))"
      ],
      "metadata": {
        "id": "Vofho-CDyMqW"
      },
      "execution_count": 31,
      "outputs": []
    },
    {
      "cell_type": "code",
      "source": [
        "# Criação de coluna dos times perdedores de cada partida:\n",
        "\n",
        "df.loc[(df['result'] == 'H') | (df['result'] == 'A'), 'loser'] = list_losers"
      ],
      "metadata": {
        "id": "X5IUrV1vyWWi"
      },
      "execution_count": 32,
      "outputs": []
    },
    {
      "cell_type": "code",
      "source": [
        "# Agrupamento dos times que mais contabilizaram derrotas em ordem decrescente:\n",
        "\n",
        "df.groupby('loser').size().sort_values(ascending = False)"
      ],
      "metadata": {
        "colab": {
          "base_uri": "https://localhost:8080/"
        },
        "id": "yzlEFmQQy1a0",
        "outputId": "e9001af2-eb0a-4758-ee23-cee35e357f2a"
      },
      "execution_count": 33,
      "outputs": [
        {
          "output_type": "execute_result",
          "data": {
            "text/plain": [
              "loser\n",
              "Watford           27\n",
              "Norwich           26\n",
              "Everton           21\n",
              "Aston Villa       19\n",
              "Brentford         18\n",
              "Leeds             18\n",
              "Wolves            17\n",
              "Burnley           17\n",
              "Southampton       16\n",
              "Newcastle         15\n",
              "West Ham          14\n",
              "Leicester         14\n",
              "Arsenal           13\n",
              "Man United        12\n",
              "Crystal Palace    12\n",
              "Tottenham         11\n",
              "Brighton          11\n",
              "Chelsea            6\n",
              "Man City           3\n",
              "Liverpool          2\n",
              "dtype: int64"
            ]
          },
          "metadata": {},
          "execution_count": 33
        }
      ]
    },
    {
      "cell_type": "code",
      "source": [
        "# Gráfico de barras verticais para representar os times que mais contabilizaram vitórias no campeonato inglês:\n",
        "\n",
        "ax = sns.barplot(x = df.groupby('loser').size(\n",
        ").sort_values(ascending = False).values, y = df.groupby('loser').size().sort_values(ascending = False).index, palette = 'Spectral', alpha = 0.9)\n",
        "ax.set_ylabel('')\n",
        "ax.set_yticklabels(df.groupby('loser').size().sort_values(ascending = False).index, fontsize = 11, color = 'k')\n",
        "ax.figure.set_size_inches(12, 5)\n",
        "ax.set_xlabel('Quantidade de Derrotas', fontsize = 12, color = 'k')\n",
        "ax.set_xticklabels(list(range(0, 26, 5)), fontsize = 11, color = 'k')\n",
        "ax.set_title('Quantidade de Derrotas X Time (2021-2022)', fontsize = 13, color = 'k')\n",
        "plt.show()"
      ],
      "metadata": {
        "colab": {
          "base_uri": "https://localhost:8080/",
          "height": 353
        },
        "id": "JQcoZ4yXzbXJ",
        "outputId": "6e2f6337-8ba3-420d-c87e-29c06a169738"
      },
      "execution_count": 34,
      "outputs": [
        {
          "output_type": "display_data",
          "data": {
            "text/plain": [
              "<Figure size 864x360 with 1 Axes>"
            ],
            "image/png": "[encoded data removed]"
          },
          "metadata": {}
        }
      ]
    },
    {
      "cell_type": "markdown",
      "source": [
        "#### (4) Quais foram os times com mais empates contabilizados durante o campeonato?"
      ],
      "metadata": {
        "id": "tM8M3kLIMc7h"
      }
    },
    {
      "cell_type": "code",
      "source": [
        "# Times mandantes que mais contabilizaram empates no campeonato inglês, atribuído à uma variável: \n",
        "\n",
        "df_hometeam_emp = df[df['winner'].isnull()].groupby('hometeam').agg({'hometeam':'size'}).rename(columns = {'hometeam': 'qtd'}).reset_index().rename(\n",
        "    columns = {'hometeam': 'time'}\n",
        ")"
      ],
      "metadata": {
        "id": "vYZC05fkMigy"
      },
      "execution_count": 35,
      "outputs": []
    },
    {
      "cell_type": "code",
      "source": [
        "# Times visitantes que mais contabilizaram empates no campeonato inglês, atribuído à uma variável: \n",
        "\n",
        "df_awayteam_emp = df[df['winner'].isnull()].groupby('awayteam').agg({'awayteam':'size'}).rename(columns = {'awayteam': 'qtd'}).reset_index().rename(\n",
        "    columns = {'awayteam': 'time'}\n",
        ")"
      ],
      "metadata": {
        "id": "w1-dchlQMvwI"
      },
      "execution_count": 36,
      "outputs": []
    },
    {
      "cell_type": "code",
      "source": [
        "# Junção entre quantidade de empates de times mandantes e visitantes para termos um dataframe \n",
        "# de times que mais contabilizaram empates em ordem decrescente:\n",
        "\n",
        "df_team_emp = df_hometeam_emp.merge(right = df_awayteam_emp, how = 'inner', on = 'time').assign(qtd = df_hometeam_emp.merge(\n",
        "    right = df_awayteam_emp, how = 'inner', on = 'time').qtd_x + df_hometeam_emp.merge(\n",
        "        right = df_awayteam_emp, how = 'inner', on = 'time').qtd_y).drop(columns = ['qtd_x', 'qtd_y']).sort_values(\n",
        "            'qtd', ascending = False\n",
        "        )"
      ],
      "metadata": {
        "id": "BUa524uGNnmN"
      },
      "execution_count": 37,
      "outputs": []
    },
    {
      "cell_type": "code",
      "source": [
        "# Visualização em ordem decrescente dos times que mais contabilizaram empates em ordem decrescente:\n",
        "\n",
        "df_team_emp"
      ],
      "metadata": {
        "colab": {
          "base_uri": "https://localhost:8080/",
          "height": 677
        },
        "id": "gJaL-nUtNpNu",
        "outputId": "9f59e82d-8006-42df-aa23-81471cfc00cf"
      },
      "execution_count": 38,
      "outputs": [
        {
          "output_type": "execute_result",
          "data": {
            "text/plain": [
              "              time  qtd\n",
              "3         Brighton   15\n",
              "6   Crystal Palace   15\n",
              "4          Burnley   14\n",
              "15     Southampton   13\n",
              "5          Chelsea   11\n",
              "8            Leeds   11\n",
              "13       Newcastle   10\n",
              "9        Leicester   10\n",
              "12      Man United   10\n",
              "10       Liverpool    8\n",
              "18        West Ham    8\n",
              "2        Brentford    7\n",
              "14         Norwich    7\n",
              "19          Wolves    6\n",
              "11        Man City    6\n",
              "1      Aston Villa    6\n",
              "7          Everton    6\n",
              "16       Tottenham    5\n",
              "17         Watford    5\n",
              "0          Arsenal    3"
            ],
            "text/html": [
              "\n",
              "  <div id=\"df-d65c248a-949e-4d20-8a2d-663726c7ac8b\">\n",
              "    <div class=\"colab-df-container\">\n",
              "      <div>\n",
              "<style scoped>\n",
              "    .dataframe tbody tr th:only-of-type {\n",
              "        vertical-align: middle;\n",
              "    }\n",
              "\n",
              "    .dataframe tbody tr th {\n",
              "        vertical-align: top;\n",
              "    }\n",
              "\n",
              "    .dataframe thead th {\n",
              "        text-align: right;\n",
              "    }\n",
              "</style>\n",
              "<table border=\"1\" class=\"dataframe\">\n",
              "  <thead>\n",
              "    <tr style=\"text-align: right;\">\n",
              "      <th></th>\n",
              "      <th>time</th>\n",
              "      <th>qtd</th>\n",
              "    </tr>\n",
              "  </thead>\n",
              "  <tbody>\n",
              "    <tr>\n",
              "      <th>3</th>\n",
              "      <td>Brighton</td>\n",
              "      <td>15</td>\n",
              "    </tr>\n",
              "    <tr>\n",
              "      <th>6</th>\n",
              "      <td>Crystal Palace</td>\n",
              "      <td>15</td>\n",
              "    </tr>\n",
              "    <tr>\n",
              "      <th>4</th>\n",
              "      <td>Burnley</td>\n",
              "      <td>14</td>\n",
              "    </tr>\n",
              "    <tr>\n",
              "      <th>15</th>\n",
              "      <td>Southampton</td>\n",
              "      <td>13</td>\n",
              "    </tr>\n",
              "    <tr>\n",
              "      <th>5</th>\n",
              "      <td>Chelsea</td>\n",
              "      <td>11</td>\n",
              "    </tr>\n",
              "    <tr>\n",
              "      <th>8</th>\n",
              "      <td>Leeds</td>\n",
              "      <td>11</td>\n",
              "    </tr>\n",
              "    <tr>\n",
              "      <th>13</th>\n",
              "      <td>Newcastle</td>\n",
              "      <td>10</td>\n",
              "    </tr>\n",
              "    <tr>\n",
              "      <th>9</th>\n",
              "      <td>Leicester</td>\n",
              "      <td>10</td>\n",
              "    </tr>\n",
              "    <tr>\n",
              "      <th>12</th>\n",
              "      <td>Man United</td>\n",
              "      <td>10</td>\n",
              "    </tr>\n",
              "    <tr>\n",
              "      <th>10</th>\n",
              "      <td>Liverpool</td>\n",
              "      <td>8</td>\n",
              "    </tr>\n",
              "    <tr>\n",
              "      <th>18</th>\n",
              "      <td>West Ham</td>\n",
              "      <td>8</td>\n",
              "    </tr>\n",
              "    <tr>\n",
              "      <th>2</th>\n",
              "      <td>Brentford</td>\n",
              "      <td>7</td>\n",
              "    </tr>\n",
              "    <tr>\n",
              "      <th>14</th>\n",
              "      <td>Norwich</td>\n",
              "      <td>7</td>\n",
              "    </tr>\n",
              "    <tr>\n",
              "      <th>19</th>\n",
              "      <td>Wolves</td>\n",
              "      <td>6</td>\n",
              "    </tr>\n",
              "    <tr>\n",
              "      <th>11</th>\n",
              "      <td>Man City</td>\n",
              "      <td>6</td>\n",
              "    </tr>\n",
              "    <tr>\n",
              "      <th>1</th>\n",
              "      <td>Aston Villa</td>\n",
              "      <td>6</td>\n",
              "    </tr>\n",
              "    <tr>\n",
              "      <th>7</th>\n",
              "      <td>Everton</td>\n",
              "      <td>6</td>\n",
              "    </tr>\n",
              "    <tr>\n",
              "      <th>16</th>\n",
              "      <td>Tottenham</td>\n",
              "      <td>5</td>\n",
              "    </tr>\n",
              "    <tr>\n",
              "      <th>17</th>\n",
              "      <td>Watford</td>\n",
              "      <td>5</td>\n",
              "    </tr>\n",
              "    <tr>\n",
              "      <th>0</th>\n",
              "      <td>Arsenal</td>\n",
              "      <td>3</td>\n",
              "    </tr>\n",
              "  </tbody>\n",
              "</table>\n",
              "</div>\n",
              "      <button class=\"colab-df-convert\" onclick=\"convertToInteractive('df-d65c248a-949e-4d20-8a2d-663726c7ac8b')\"\n",
              "              title=\"Convert this dataframe to an interactive table.\"\n",
              "              style=\"display:none;\">\n",
              "        \n",
              "  <svg xmlns=\"http://www.w3.org/2000/svg\" height=\"24px\"viewBox=\"0 0 24 24\"\n",
              "       width=\"24px\">\n",
              "    <path d=\"M0 0h24v24H0V0z\" fill=\"none\"/>\n",
              "    <path d=\"M18.56 5.44l.94 2.06.94-2.06 2.06-.94-2.06-.94-.94-2.06-.94 2.06-2.06.94zm-11 1L8.5 8.5l.94-2.06 2.06-.94-2.06-.94L8.5 2.5l-.94 2.06-2.06.94zm10 10l.94 2.06.94-2.06 2.06-.94-2.06-.94-.94-2.06-.94 2.06-2.06.94z\"/><path d=\"M17.41 7.96l-1.37-1.37c-.4-.4-.92-.59-1.43-.59-.52 0-1.04.2-1.43.59L10.3 9.45l-7.72 7.72c-.78.78-.78 2.05 0 2.83L4 21.41c.39.39.9.59 1.41.59.51 0 1.02-.2 1.41-.59l7.78-7.78 2.81-2.81c.8-.78.8-2.07 0-2.86zM5.41 20L4 18.59l7.72-7.72 1.47 1.35L5.41 20z\"/>\n",
              "  </svg>\n",
              "      </button>\n",
              "      \n",
              "  <style>\n",
              "    .colab-df-container {\n",
              "      display:flex;\n",
              "      flex-wrap:wrap;\n",
              "      gap: 12px;\n",
              "    }\n",
              "\n",
              "    .colab-df-convert {\n",
              "      background-color: #E8F0FE;\n",
              "      border: none;\n",
              "      border-radius: 50%;\n",
              "      cursor: pointer;\n",
              "      display: none;\n",
              "      fill: #1967D2;\n",
              "      height: 32px;\n",
              "      padding: 0 0 0 0;\n",
              "      width: 32px;\n",
              "    }\n",
              "\n",
              "    .colab-df-convert:hover {\n",
              "      background-color: #E2EBFA;\n",
              "      box-shadow: 0px 1px 2px rgba(60, 64, 67, 0.3), 0px 1px 3px 1px rgba(60, 64, 67, 0.15);\n",
              "      fill: #174EA6;\n",
              "    }\n",
              "\n",
              "    [theme=dark] .colab-df-convert {\n",
              "      background-color: #3B4455;\n",
              "      fill: #D2E3FC;\n",
              "    }\n",
              "\n",
              "    [theme=dark] .colab-df-convert:hover {\n",
              "      background-color: #434B5C;\n",
              "      box-shadow: 0px 1px 3px 1px rgba(0, 0, 0, 0.15);\n",
              "      filter: drop-shadow(0px 1px 2px rgba(0, 0, 0, 0.3));\n",
              "      fill: #FFFFFF;\n",
              "    }\n",
              "  </style>\n",
              "\n",
              "      <script>\n",
              "        const buttonEl =\n",
              "          document.querySelector('#df-d65c248a-949e-4d20-8a2d-663726c7ac8b button.colab-df-convert');\n",
              "        buttonEl.style.display =\n",
              "          google.colab.kernel.accessAllowed ? 'block' : 'none';\n",
              "\n",
              "        async function convertToInteractive(key) {\n",
              "          const element = document.querySelector('#df-d65c248a-949e-4d20-8a2d-663726c7ac8b');\n",
              "          const dataTable =\n",
              "            await google.colab.kernel.invokeFunction('convertToInteractive',\n",
              "                                                     [key], {});\n",
              "          if (!dataTable) return;\n",
              "\n",
              "          const docLinkHtml = 'Like what you see? Visit the ' +\n",
              "            '<a target=\"_blank\" href=https://colab.research.google.com/notebooks/data_table.ipynb>data table notebook</a>'\n",
              "            + ' to learn more about interactive tables.';\n",
              "          element.innerHTML = '';\n",
              "          dataTable['output_type'] = 'display_data';\n",
              "          await google.colab.output.renderOutput(dataTable, element);\n",
              "          const docLink = document.createElement('div');\n",
              "          docLink.innerHTML = docLinkHtml;\n",
              "          element.appendChild(docLink);\n",
              "        }\n",
              "      </script>\n",
              "    </div>\n",
              "  </div>\n",
              "  "
            ]
          },
          "metadata": {},
          "execution_count": 38
        }
      ]
    },
    {
      "cell_type": "code",
      "source": [
        "# Gráfico de barras horizontais para visualizarmos a quantidade de empates por cada time em ordem decrescente:\n",
        "\n",
        "ax = sns.barplot(y = df_team_emp.time, x = df_team_emp.qtd, palette = 'Spectral', alpha = 0.9)\n",
        "ax.set_ylabel('')\n",
        "ax.set_yticklabels(df_team_emp.time, fontsize = 11, color = 'k')\n",
        "ax.figure.set_size_inches(12, 5)\n",
        "ax.set_xlabel('', fontsize = 12, color = 'k')\n",
        "ax.set_xticklabels(list(range(0, 15, 2)), fontsize = 11, color = 'k')\n",
        "ax.set_title('Quantidade de Empates X Time (2021-2022)', fontsize = 13, color = 'k')\n",
        "plt.show()"
      ],
      "metadata": {
        "colab": {
          "base_uri": "https://localhost:8080/",
          "height": 336
        },
        "id": "D0qzYatgOZX1",
        "outputId": "83c13a03-1a1f-4068-caba-a63eb27c2ab5"
      },
      "execution_count": 39,
      "outputs": [
        {
          "output_type": "display_data",
          "data": {
            "text/plain": [
              "<Figure size 864x360 with 1 Axes>"
            ],
            "image/png": "[encoded data removed]"
          },
          "metadata": {}
        }
      ]
    },
    {
      "cell_type": "markdown",
      "source": [
        "#### (5) No campeonato como um todo, houve mais gols marcados por times mandantes ou por times visitantes?"
      ],
      "metadata": {
        "id": "26PVXAuXP9Jo"
      }
    },
    {
      "cell_type": "code",
      "source": [
        "# Visualização da quantidade de gols marcados por times mandantes ou visitantes:\n",
        "\n",
        "print('Quantidade de Gols Marcados Por Times Mandantes:', df.home_goals.sum())\n",
        "print('\\n')\n",
        "print('Quantidade de Gols Marcados Por Times Visitantes:', df.away_goals.sum())"
      ],
      "metadata": {
        "colab": {
          "base_uri": "https://localhost:8080/"
        },
        "id": "ayOfHHrxQwYK",
        "outputId": "0624dd07-2ab5-4d23-ef92-fb451f82ccfb"
      },
      "execution_count": 40,
      "outputs": [
        {
          "output_type": "stream",
          "name": "stdout",
          "text": [
            "Quantidade de Gols Marcados Por Times Mandantes: 575\n",
            "\n",
            "\n",
            "Quantidade de Gols Marcados Por Times Visitantes: 496\n"
          ]
        }
      ]
    },
    {
      "cell_type": "code",
      "source": [
        "# Gráfico de pizza para vermos percentualmente a quantidade de gols marcados por times mandantes e visitantes\n",
        "# no campeonato inglês:\n",
        "\n",
        "plt.figure(figsize = (16, 6))\n",
        "plt.pie(x = [df.home_goals.sum(), df.away_goals.sum()],\n",
        "        labels = ['Times Mandantes', 'Times Visitantes'],\n",
        "        autopct = '%1.1f%%', explode = [0, 0],\n",
        "        startangle = 280, textprops = {'fontsize': 11.5,\n",
        "                                       'color': 'k'},\n",
        "        shadow = True, colors = sns.color_palette('Spectral_r'))\n",
        "plt.title('% de Gols Marcados X Time Mandante / Visitante', fontsize = 12.5, color = 'k');"
      ],
      "metadata": {
        "colab": {
          "base_uri": "https://localhost:8080/",
          "height": 373
        },
        "id": "1GPKWuc4Qyaj",
        "outputId": "dec0f69d-c72d-4ed1-812d-fe4c9cb78066"
      },
      "execution_count": 41,
      "outputs": [
        {
          "output_type": "display_data",
          "data": {
            "text/plain": [
              "<Figure size 1152x432 with 1 Axes>"
            ],
            "image/png": "[encoded data removed]"
          },
          "metadata": {}
        }
      ]
    },
    {
      "cell_type": "markdown",
      "source": [
        "#### (6) Qual foi a quantidade de gols marcados por times mandantes e visitantes ao decorrer dos meses? Houve uma tendência de aumento ou de diminuição na quantidade de gols marcados? "
      ],
      "metadata": {
        "id": "m9Z9-cyEXtcs"
      }
    },
    {
      "cell_type": "code",
      "source": [
        "# Quantidade de gols marcados de times mandantes por mês durante o campeonato inglês (2021-2022):\n",
        "\n",
        "df.groupby(df.date.dt.month).agg({'home_goals': 'sum'})"
      ],
      "metadata": {
        "colab": {
          "base_uri": "https://localhost:8080/",
          "height": 457
        },
        "id": "G7o_uzIjV_SY",
        "outputId": "1d6878f2-8818-437f-bfa0-d5358fbe3541"
      },
      "execution_count": 42,
      "outputs": [
        {
          "output_type": "execute_result",
          "data": {
            "text/plain": [
              "      home_goals\n",
              "date            \n",
              "1             42\n",
              "2             64\n",
              "3             30\n",
              "4             49\n",
              "5             58\n",
              "6             16\n",
              "7             22\n",
              "8             67\n",
              "9             37\n",
              "10            58\n",
              "11            68\n",
              "12            64"
            ],
            "text/html": [
              "\n",
              "  <div id=\"df-c5d18fda-01b1-4000-b9ba-3f6587a945ce\">\n",
              "    <div class=\"colab-df-container\">\n",
              "      <div>\n",
              "<style scoped>\n",
              "    .dataframe tbody tr th:only-of-type {\n",
              "        vertical-align: middle;\n",
              "    }\n",
              "\n",
              "    .dataframe tbody tr th {\n",
              "        vertical-align: top;\n",
              "    }\n",
              "\n",
              "    .dataframe thead th {\n",
              "        text-align: right;\n",
              "    }\n",
              "</style>\n",
              "<table border=\"1\" class=\"dataframe\">\n",
              "  <thead>\n",
              "    <tr style=\"text-align: right;\">\n",
              "      <th></th>\n",
              "      <th>home_goals</th>\n",
              "    </tr>\n",
              "    <tr>\n",
              "      <th>date</th>\n",
              "      <th></th>\n",
              "    </tr>\n",
              "  </thead>\n",
              "  <tbody>\n",
              "    <tr>\n",
              "      <th>1</th>\n",
              "      <td>42</td>\n",
              "    </tr>\n",
              "    <tr>\n",
              "      <th>2</th>\n",
              "      <td>64</td>\n",
              "    </tr>\n",
              "    <tr>\n",
              "      <th>3</th>\n",
              "      <td>30</td>\n",
              "    </tr>\n",
              "    <tr>\n",
              "      <th>4</th>\n",
              "      <td>49</td>\n",
              "    </tr>\n",
              "    <tr>\n",
              "      <th>5</th>\n",
              "      <td>58</td>\n",
              "    </tr>\n",
              "    <tr>\n",
              "      <th>6</th>\n",
              "      <td>16</td>\n",
              "    </tr>\n",
              "    <tr>\n",
              "      <th>7</th>\n",
              "      <td>22</td>\n",
              "    </tr>\n",
              "    <tr>\n",
              "      <th>8</th>\n",
              "      <td>67</td>\n",
              "    </tr>\n",
              "    <tr>\n",
              "      <th>9</th>\n",
              "      <td>37</td>\n",
              "    </tr>\n",
              "    <tr>\n",
              "      <th>10</th>\n",
              "      <td>58</td>\n",
              "    </tr>\n",
              "    <tr>\n",
              "      <th>11</th>\n",
              "      <td>68</td>\n",
              "    </tr>\n",
              "    <tr>\n",
              "      <th>12</th>\n",
              "      <td>64</td>\n",
              "    </tr>\n",
              "  </tbody>\n",
              "</table>\n",
              "</div>\n",
              "      <button class=\"colab-df-convert\" onclick=\"convertToInteractive('df-c5d18fda-01b1-4000-b9ba-3f6587a945ce')\"\n",
              "              title=\"Convert this dataframe to an interactive table.\"\n",
              "              style=\"display:none;\">\n",
              "        \n",
              "  <svg xmlns=\"http://www.w3.org/2000/svg\" height=\"24px\"viewBox=\"0 0 24 24\"\n",
              "       width=\"24px\">\n",
              "    <path d=\"M0 0h24v24H0V0z\" fill=\"none\"/>\n",
              "    <path d=\"M18.56 5.44l.94 2.06.94-2.06 2.06-.94-2.06-.94-.94-2.06-.94 2.06-2.06.94zm-11 1L8.5 8.5l.94-2.06 2.06-.94-2.06-.94L8.5 2.5l-.94 2.06-2.06.94zm10 10l.94 2.06.94-2.06 2.06-.94-2.06-.94-.94-2.06-.94 2.06-2.06.94z\"/><path d=\"M17.41 7.96l-1.37-1.37c-.4-.4-.92-.59-1.43-.59-.52 0-1.04.2-1.43.59L10.3 9.45l-7.72 7.72c-.78.78-.78 2.05 0 2.83L4 21.41c.39.39.9.59 1.41.59.51 0 1.02-.2 1.41-.59l7.78-7.78 2.81-2.81c.8-.78.8-2.07 0-2.86zM5.41 20L4 18.59l7.72-7.72 1.47 1.35L5.41 20z\"/>\n",
              "  </svg>\n",
              "      </button>\n",
              "      \n",
              "  <style>\n",
              "    .colab-df-container {\n",
              "      display:flex;\n",
              "      flex-wrap:wrap;\n",
              "      gap: 12px;\n",
              "    }\n",
              "\n",
              "    .colab-df-convert {\n",
              "      background-color: #E8F0FE;\n",
              "      border: none;\n",
              "      border-radius: 50%;\n",
              "      cursor: pointer;\n",
              "      display: none;\n",
              "      fill: #1967D2;\n",
              "      height: 32px;\n",
              "      padding: 0 0 0 0;\n",
              "      width: 32px;\n",
              "    }\n",
              "\n",
              "    .colab-df-convert:hover {\n",
              "      background-color: #E2EBFA;\n",
              "      box-shadow: 0px 1px 2px rgba(60, 64, 67, 0.3), 0px 1px 3px 1px rgba(60, 64, 67, 0.15);\n",
              "      fill: #174EA6;\n",
              "    }\n",
              "\n",
              "    [theme=dark] .colab-df-convert {\n",
              "      background-color: #3B4455;\n",
              "      fill: #D2E3FC;\n",
              "    }\n",
              "\n",
              "    [theme=dark] .colab-df-convert:hover {\n",
              "      background-color: #434B5C;\n",
              "      box-shadow: 0px 1px 3px 1px rgba(0, 0, 0, 0.15);\n",
              "      filter: drop-shadow(0px 1px 2px rgba(0, 0, 0, 0.3));\n",
              "      fill: #FFFFFF;\n",
              "    }\n",
              "  </style>\n",
              "\n",
              "      <script>\n",
              "        const buttonEl =\n",
              "          document.querySelector('#df-c5d18fda-01b1-4000-b9ba-3f6587a945ce button.colab-df-convert');\n",
              "        buttonEl.style.display =\n",
              "          google.colab.kernel.accessAllowed ? 'block' : 'none';\n",
              "\n",
              "        async function convertToInteractive(key) {\n",
              "          const element = document.querySelector('#df-c5d18fda-01b1-4000-b9ba-3f6587a945ce');\n",
              "          const dataTable =\n",
              "            await google.colab.kernel.invokeFunction('convertToInteractive',\n",
              "                                                     [key], {});\n",
              "          if (!dataTable) return;\n",
              "\n",
              "          const docLinkHtml = 'Like what you see? Visit the ' +\n",
              "            '<a target=\"_blank\" href=https://colab.research.google.com/notebooks/data_table.ipynb>data table notebook</a>'\n",
              "            + ' to learn more about interactive tables.';\n",
              "          element.innerHTML = '';\n",
              "          dataTable['output_type'] = 'display_data';\n",
              "          await google.colab.output.renderOutput(dataTable, element);\n",
              "          const docLink = document.createElement('div');\n",
              "          docLink.innerHTML = docLinkHtml;\n",
              "          element.appendChild(docLink);\n",
              "        }\n",
              "      </script>\n",
              "    </div>\n",
              "  </div>\n",
              "  "
            ]
          },
          "metadata": {},
          "execution_count": 42
        }
      ]
    },
    {
      "cell_type": "code",
      "source": [
        "# Quantidade de gols marcados de times visitantes por mês durante o campeonato inglês (2021-2022):\n",
        "\n",
        "df.groupby(df.date.dt.month).agg({'away_goals': 'sum'})"
      ],
      "metadata": {
        "colab": {
          "base_uri": "https://localhost:8080/",
          "height": 457
        },
        "id": "tBrFSotXXaY0",
        "outputId": "5033bae4-3654-4a1e-a560-06748b596864"
      },
      "execution_count": 43,
      "outputs": [
        {
          "output_type": "execute_result",
          "data": {
            "text/plain": [
              "      away_goals\n",
              "date            \n",
              "1             51\n",
              "2             57\n",
              "3             25\n",
              "4             39\n",
              "5             48\n",
              "6             13\n",
              "7              9\n",
              "8             41\n",
              "9             49\n",
              "10            73\n",
              "11            36\n",
              "12            55"
            ],
            "text/html": [
              "\n",
              "  <div id=\"df-994e813a-efff-4185-8d3c-748de48bda3d\">\n",
              "    <div class=\"colab-df-container\">\n",
              "      <div>\n",
              "<style scoped>\n",
              "    .dataframe tbody tr th:only-of-type {\n",
              "        vertical-align: middle;\n",
              "    }\n",
              "\n",
              "    .dataframe tbody tr th {\n",
              "        vertical-align: top;\n",
              "    }\n",
              "\n",
              "    .dataframe thead th {\n",
              "        text-align: right;\n",
              "    }\n",
              "</style>\n",
              "<table border=\"1\" class=\"dataframe\">\n",
              "  <thead>\n",
              "    <tr style=\"text-align: right;\">\n",
              "      <th></th>\n",
              "      <th>away_goals</th>\n",
              "    </tr>\n",
              "    <tr>\n",
              "      <th>date</th>\n",
              "      <th></th>\n",
              "    </tr>\n",
              "  </thead>\n",
              "  <tbody>\n",
              "    <tr>\n",
              "      <th>1</th>\n",
              "      <td>51</td>\n",
              "    </tr>\n",
              "    <tr>\n",
              "      <th>2</th>\n",
              "      <td>57</td>\n",
              "    </tr>\n",
              "    <tr>\n",
              "      <th>3</th>\n",
              "      <td>25</td>\n",
              "    </tr>\n",
              "    <tr>\n",
              "      <th>4</th>\n",
              "      <td>39</td>\n",
              "    </tr>\n",
              "    <tr>\n",
              "      <th>5</th>\n",
              "      <td>48</td>\n",
              "    </tr>\n",
              "    <tr>\n",
              "      <th>6</th>\n",
              "      <td>13</td>\n",
              "    </tr>\n",
              "    <tr>\n",
              "      <th>7</th>\n",
              "      <td>9</td>\n",
              "    </tr>\n",
              "    <tr>\n",
              "      <th>8</th>\n",
              "      <td>41</td>\n",
              "    </tr>\n",
              "    <tr>\n",
              "      <th>9</th>\n",
              "      <td>49</td>\n",
              "    </tr>\n",
              "    <tr>\n",
              "      <th>10</th>\n",
              "      <td>73</td>\n",
              "    </tr>\n",
              "    <tr>\n",
              "      <th>11</th>\n",
              "      <td>36</td>\n",
              "    </tr>\n",
              "    <tr>\n",
              "      <th>12</th>\n",
              "      <td>55</td>\n",
              "    </tr>\n",
              "  </tbody>\n",
              "</table>\n",
              "</div>\n",
              "      <button class=\"colab-df-convert\" onclick=\"convertToInteractive('df-994e813a-efff-4185-8d3c-748de48bda3d')\"\n",
              "              title=\"Convert this dataframe to an interactive table.\"\n",
              "              style=\"display:none;\">\n",
              "        \n",
              "  <svg xmlns=\"http://www.w3.org/2000/svg\" height=\"24px\"viewBox=\"0 0 24 24\"\n",
              "       width=\"24px\">\n",
              "    <path d=\"M0 0h24v24H0V0z\" fill=\"none\"/>\n",
              "    <path d=\"M18.56 5.44l.94 2.06.94-2.06 2.06-.94-2.06-.94-.94-2.06-.94 2.06-2.06.94zm-11 1L8.5 8.5l.94-2.06 2.06-.94-2.06-.94L8.5 2.5l-.94 2.06-2.06.94zm10 10l.94 2.06.94-2.06 2.06-.94-2.06-.94-.94-2.06-.94 2.06-2.06.94z\"/><path d=\"M17.41 7.96l-1.37-1.37c-.4-.4-.92-.59-1.43-.59-.52 0-1.04.2-1.43.59L10.3 9.45l-7.72 7.72c-.78.78-.78 2.05 0 2.83L4 21.41c.39.39.9.59 1.41.59.51 0 1.02-.2 1.41-.59l7.78-7.78 2.81-2.81c.8-.78.8-2.07 0-2.86zM5.41 20L4 18.59l7.72-7.72 1.47 1.35L5.41 20z\"/>\n",
              "  </svg>\n",
              "      </button>\n",
              "      \n",
              "  <style>\n",
              "    .colab-df-container {\n",
              "      display:flex;\n",
              "      flex-wrap:wrap;\n",
              "      gap: 12px;\n",
              "    }\n",
              "\n",
              "    .colab-df-convert {\n",
              "      background-color: #E8F0FE;\n",
              "      border: none;\n",
              "      border-radius: 50%;\n",
              "      cursor: pointer;\n",
              "      display: none;\n",
              "      fill: #1967D2;\n",
              "      height: 32px;\n",
              "      padding: 0 0 0 0;\n",
              "      width: 32px;\n",
              "    }\n",
              "\n",
              "    .colab-df-convert:hover {\n",
              "      background-color: #E2EBFA;\n",
              "      box-shadow: 0px 1px 2px rgba(60, 64, 67, 0.3), 0px 1px 3px 1px rgba(60, 64, 67, 0.15);\n",
              "      fill: #174EA6;\n",
              "    }\n",
              "\n",
              "    [theme=dark] .colab-df-convert {\n",
              "      background-color: #3B4455;\n",
              "      fill: #D2E3FC;\n",
              "    }\n",
              "\n",
              "    [theme=dark] .colab-df-convert:hover {\n",
              "      background-color: #434B5C;\n",
              "      box-shadow: 0px 1px 3px 1px rgba(0, 0, 0, 0.15);\n",
              "      filter: drop-shadow(0px 1px 2px rgba(0, 0, 0, 0.3));\n",
              "      fill: #FFFFFF;\n",
              "    }\n",
              "  </style>\n",
              "\n",
              "      <script>\n",
              "        const buttonEl =\n",
              "          document.querySelector('#df-994e813a-efff-4185-8d3c-748de48bda3d button.colab-df-convert');\n",
              "        buttonEl.style.display =\n",
              "          google.colab.kernel.accessAllowed ? 'block' : 'none';\n",
              "\n",
              "        async function convertToInteractive(key) {\n",
              "          const element = document.querySelector('#df-994e813a-efff-4185-8d3c-748de48bda3d');\n",
              "          const dataTable =\n",
              "            await google.colab.kernel.invokeFunction('convertToInteractive',\n",
              "                                                     [key], {});\n",
              "          if (!dataTable) return;\n",
              "\n",
              "          const docLinkHtml = 'Like what you see? Visit the ' +\n",
              "            '<a target=\"_blank\" href=https://colab.research.google.com/notebooks/data_table.ipynb>data table notebook</a>'\n",
              "            + ' to learn more about interactive tables.';\n",
              "          element.innerHTML = '';\n",
              "          dataTable['output_type'] = 'display_data';\n",
              "          await google.colab.output.renderOutput(dataTable, element);\n",
              "          const docLink = document.createElement('div');\n",
              "          docLink.innerHTML = docLinkHtml;\n",
              "          element.appendChild(docLink);\n",
              "        }\n",
              "      </script>\n",
              "    </div>\n",
              "  </div>\n",
              "  "
            ]
          },
          "metadata": {},
          "execution_count": 43
        }
      ]
    },
    {
      "cell_type": "code",
      "source": [
        "# Gráfico de linhas para compararmos a quantidade de gols marcados por times mandantes e visitantes\n",
        "# durantes os meses do campeonato inglês:\n",
        "\n",
        "fig, ax = plt.subplots(nrows = 1, ncols = 1, figsize = (12, 5))\n",
        "ax1 = sns.lineplot(data = df.groupby(df.date.dt.month).agg({'home_goals': 'sum'}).reset_index(),\n",
        "                   x = 'date',\n",
        "                   y = 'home_goals',\n",
        "                   legend = True,\n",
        "                   color = sns.color_palette('Spectral')[0])\n",
        "ax2 = sns.lineplot(data = df.groupby(df.date.dt.month).agg({'away_goals': 'sum'}).reset_index(),\n",
        "                   x = 'date',\n",
        "                   y = 'away_goals',\n",
        "                   legend = True, \n",
        "                   color = sns.color_palette('Spectral')[1])\n",
        "ax1.legend(['Times Mandantes', 'Times Visitantes'], shadow = True)\n",
        "ax1.set_xlabel('Mês', fontsize = 12, color = 'k')\n",
        "ax2.set_xticklabels([2, 2, 4, 6, 8, 10, 12], fontsize = 11, color = 'k')\n",
        "ax1.set_ylabel('Quantidade de Gols', fontsize = 12, color = 'k')\n",
        "ax1.set_yticklabels([10, 10, 20, 30, 40, 50, 60, 70], fontsize = 11, color = 'k')\n",
        "ax1.set_title('Quantidade de Gols X Mês (Times Mandantes / Visitantes)', fontsize = 13, color = 'k');"
      ],
      "metadata": {
        "colab": {
          "base_uri": "https://localhost:8080/",
          "height": 353
        },
        "id": "UB6G4Wy9R2Z5",
        "outputId": "e892d0d0-d7d4-46f3-8893-6acefd7dba5d"
      },
      "execution_count": 44,
      "outputs": [
        {
          "output_type": "display_data",
          "data": {
            "text/plain": [
              "<Figure size 864x360 with 1 Axes>"
            ],
            "image/png": "[encoded data removed]"
          },
          "metadata": {}
        }
      ]
    },
    {
      "cell_type": "markdown",
      "source": [
        "#### (7) Qual é a correlação entre total de gols na partida e gols marcados por times mandantes e visitantes?"
      ],
      "metadata": {
        "id": "z6Xz0kLMYKwz"
      }
    },
    {
      "cell_type": "code",
      "source": [
        "# Correlação entre quantidade de gols mandantes e total de gols marcados:\n",
        "\n",
        "df.home_goals.corr(df.total_goals).round(2)"
      ],
      "metadata": {
        "colab": {
          "base_uri": "https://localhost:8080/"
        },
        "id": "v7ValQdCYNDl",
        "outputId": "04c820de-ee0f-4630-87be-91bdcc50267b"
      },
      "execution_count": 45,
      "outputs": [
        {
          "output_type": "execute_result",
          "data": {
            "text/plain": [
              "0.65"
            ]
          },
          "metadata": {},
          "execution_count": 45
        }
      ]
    },
    {
      "cell_type": "code",
      "source": [
        "# Correlação entre quantidade de gols visitantes e total de gols marcados:\n",
        "\n",
        "df.away_goals.corr(df.total_goals).round(3)"
      ],
      "metadata": {
        "colab": {
          "base_uri": "https://localhost:8080/"
        },
        "id": "waQikkysYxVC",
        "outputId": "34eb9d63-c369-42fa-f1fc-d9e10906d365"
      },
      "execution_count": 46,
      "outputs": [
        {
          "output_type": "execute_result",
          "data": {
            "text/plain": [
              "0.603"
            ]
          },
          "metadata": {},
          "execution_count": 46
        }
      ]
    },
    {
      "cell_type": "code",
      "source": [
        "# Gráfico de heatmap para vermos o grau de correlação entre às variáveis de gols de times mandantes, visitantes\n",
        "# e total de gols contábeis no campeonato inglês:\n",
        "\n",
        "ax = sns.heatmap(data = df[['home_goals', 'away_goals', 'total_goals']].corr().round(2),\n",
        "                 cmap = 'Spectral_r',\n",
        "                 annot = True,\n",
        "                 xticklabels = ['Gols Mandantes', 'Gols Visitantes', 'Total de Gols'],\n",
        "                 yticklabels = ['Gols Mandantes', 'Gols Visitantes', 'Total de Gols'],\n",
        "                 annot_kws = {'fontsize': 12})\n",
        "ax.figure.set_size_inches(12, 5)\n",
        "plt.xticks(color = 'k', fontsize = 12)\n",
        "plt.yticks(color = 'k', fontsize = 12)\n",
        "ax.set_title('Correlação - Total de Gols X Gols Mandantes / Visitantes', \n",
        "             fontsize = 13, color = 'k')\n",
        "plt.show()"
      ],
      "metadata": {
        "colab": {
          "base_uri": "https://localhost:8080/",
          "height": 339
        },
        "id": "TG4e05VzZxe3",
        "outputId": "c22100a4-ce6c-4349-d0f4-a5baba1b416c"
      },
      "execution_count": 47,
      "outputs": [
        {
          "output_type": "display_data",
          "data": {
            "text/plain": [
              "<Figure size 864x360 with 2 Axes>"
            ],
            "image/png": "[encoded data removed]"
          },
          "metadata": {}
        }
      ]
    },
    {
      "cell_type": "markdown",
      "source": [
        "#### (8) Quais foram os times com os melhores ataques do campeonato inglês?"
      ],
      "metadata": {
        "id": "jPygqsjiMGxQ"
      }
    },
    {
      "cell_type": "code",
      "source": [
        "# Quantidade de gols marcados por times mandantes atribuídos à uma variável:\n",
        "\n",
        "df_atack_home = df.groupby('hometeam').agg({'home_goals': 'sum'})"
      ],
      "metadata": {
        "id": "XPJkQAmcL2wr"
      },
      "execution_count": 48,
      "outputs": []
    },
    {
      "cell_type": "code",
      "source": [
        "# Quantidade de gols marcados por times visitantes atribuídos à uma variável:\n",
        "\n",
        "df_atack_away = df.groupby('awayteam').agg({'away_goals': 'sum'})"
      ],
      "metadata": {
        "id": "Wo_nQ18CMOvg"
      },
      "execution_count": 49,
      "outputs": []
    },
    {
      "cell_type": "code",
      "source": [
        "# Junção entre quantidade de gols de times mandantes e visitantes para termos um dataframe \n",
        "# de times que mais contabilizaram gols em ordem decrescente:\n",
        "\n",
        "df_atack_team = df_atack_home.join(df_atack_away).assign(total_goals = df_atack_home.join(\n",
        "    df_atack_away).home_goals + df_atack_home.join(\n",
        "    df_atack_away).away_goals).drop(columns = ['home_goals', 'away_goals']).reset_index().rename(columns = {'hometeam': 'team'}).sort_values(\n",
        "        'total_goals', ascending = False\n",
        "    )"
      ],
      "metadata": {
        "id": "fDNZ14uyMcmM"
      },
      "execution_count": 50,
      "outputs": []
    },
    {
      "cell_type": "code",
      "source": [
        "# Quantidade de gols marcados por cada time durante o campeonato inglês:\n",
        "\n",
        "ax = sns.barplot(x = df_atack_team.total_goals, y = df_atack_team.team, palette = 'Spectral', alpha = 0.9)\n",
        "ax.set_ylabel('')\n",
        "ax.set_yticklabels(df_atack_team.team, fontsize = 11, color = 'k')\n",
        "ax.figure.set_size_inches(12, 5)\n",
        "ax.set_xlabel('Quantidade de Gols', fontsize = 12, color = 'k')\n",
        "ax.set_xticklabels(list(range(0, 101, 20)), fontsize = 11, color = 'k')\n",
        "ax.set_title('Quantidade de Gols X Time (2021-2022)', fontsize = 13, color = 'k')\n",
        "plt.show()"
      ],
      "metadata": {
        "colab": {
          "base_uri": "https://localhost:8080/",
          "height": 353
        },
        "id": "gw1mNZzRMtJK",
        "outputId": "9e757585-1b48-49be-dee7-7dfde4ddebb4"
      },
      "execution_count": 51,
      "outputs": [
        {
          "output_type": "display_data",
          "data": {
            "text/plain": [
              "<Figure size 864x360 with 1 Axes>"
            ],
            "image/png": "[encoded data removed]"
          },
          "metadata": {}
        }
      ]
    },
    {
      "cell_type": "markdown",
      "source": [
        "#### (9) Qual é a correlação entre quantidade de gols e quantidade de chutes?"
      ],
      "metadata": {
        "id": "0swzUwk1Py74"
      }
    },
    {
      "cell_type": "code",
      "source": [
        "# Quantidade de chutes realizados por times mandantes atribuídos à uma variável:\n",
        "\n",
        "df_shot_home = df.groupby('hometeam').agg({'home_shots': 'sum'})"
      ],
      "metadata": {
        "id": "lhi0fIuYNhBe"
      },
      "execution_count": 52,
      "outputs": []
    },
    {
      "cell_type": "code",
      "source": [
        "# Quantidade de chutes realizados por times visitantes atribuídos à uma variável:\n",
        "\n",
        "df_shot_away = df.groupby('awayteam').agg({'away_shots': 'sum'})"
      ],
      "metadata": {
        "id": "Mu6pStWsPGbR"
      },
      "execution_count": 53,
      "outputs": []
    },
    {
      "cell_type": "code",
      "source": [
        "# Junção entre quantidade de chutes contabilizados de times mandantes e visitantes para termos um dataframe \n",
        "# de times que mais contabilizaram chutes em ordem decrescente:\n",
        "\n",
        "df_shots_team = df_shot_home.join(df_shot_away).assign(total_shots = df_shot_home.join(df_shot_away\n",
        "                                                         ).home_shots + \n",
        "                                       df_shot_home.join(df_shot_away).away_shots).drop(\n",
        "                                           columns = ['home_shots', 'away_shots']\n",
        "                                       ).reset_index().rename(columns = {'hometeam': 'team'}).sort_values(\n",
        "                                           'total_shots',\n",
        "                                           ascending = False\n",
        "                                       )"
      ],
      "metadata": {
        "id": "C-DtINlcPNUu"
      },
      "execution_count": 54,
      "outputs": []
    },
    {
      "cell_type": "code",
      "source": [
        "# Junção entre quantidade de chutes e quantidade de gols marcados por cada time:\n",
        "\n",
        "df_atack_team = df_shots_team.merge(df_atack_team,\n",
        "                    how = 'inner',\n",
        "                    on = 'team')"
      ],
      "metadata": {
        "id": "siOHGGPoPS9-"
      },
      "execution_count": 55,
      "outputs": []
    },
    {
      "cell_type": "code",
      "source": [
        "# Visualização breve da correlação positiva entre quantidade de gols e quantidade de chutes:\n",
        "\n",
        "print('Correlação - Quantidade de Gols X Quantidade de Chutes:',\n",
        "      df_atack_team.total_shots.corr(df_atack_team.total_goals).round(2))"
      ],
      "metadata": {
        "colab": {
          "base_uri": "https://localhost:8080/"
        },
        "id": "6O3TLzNLQxZS",
        "outputId": "26f25201-0ea5-4960-fc07-d61b62a83610"
      },
      "execution_count": 56,
      "outputs": [
        {
          "output_type": "stream",
          "name": "stdout",
          "text": [
            "Correlação - Quantidade de Gols X Quantidade de Chutes: 0.88\n"
          ]
        }
      ]
    },
    {
      "cell_type": "code",
      "source": [
        "# Gráfico de scatterplot para vermos a correlação entre quantidade de gols e quantidade de chutes:\n",
        "\n",
        "ax = sns.regplot(data = df_atack_team,\n",
        "                 x = 'total_shots',\n",
        "                 y = 'total_goals',\n",
        "                 color = sns.color_palette('Spectral')[1])\n",
        "ax.figure.set_size_inches(12, 5)\n",
        "ax.set_xlabel('Chutes', fontsize = 12, color = 'k')\n",
        "ax.set_ylabel('Gols', fontsize = 12, color = 'k')\n",
        "ax.set_xticklabels([400, 400, 450, 500, 550, 600, 650, 700],\n",
        "                   fontsize = 11, color = 'k')\n",
        "ax.set_yticklabels([20, 20, 30, 40, 50, 60, 70, 80, 90, 100])\n",
        "ax.set_title('Correlação - Quantidade de Gols X Quantidade de Chutes', fontsize = 13, color = 'k')\n",
        "plt.show()"
      ],
      "metadata": {
        "colab": {
          "base_uri": "https://localhost:8080/",
          "height": 353
        },
        "id": "NJtTi94aQD3_",
        "outputId": "5ef2b01d-e536-475f-e252-4f3027c01f19"
      },
      "execution_count": 57,
      "outputs": [
        {
          "output_type": "display_data",
          "data": {
            "text/plain": [
              "<Figure size 864x360 with 1 Axes>"
            ],
            "image/png": "[encoded data removed]"
          },
          "metadata": {}
        }
      ]
    },
    {
      "cell_type": "markdown",
      "source": [
        "#### (10) Quais são os times com às piores defesas do campeonato inglês?"
      ],
      "metadata": {
        "id": "xN8a2RFSXTXD"
      }
    },
    {
      "cell_type": "code",
      "source": [
        "# Total de gols sofridos por times mandantes:\n",
        "\n",
        "df_home_goals_suffered = df.groupby('hometeam').agg({'away_goals': 'sum'})"
      ],
      "metadata": {
        "id": "_W-ahGC3XLwm"
      },
      "execution_count": 58,
      "outputs": []
    },
    {
      "cell_type": "code",
      "source": [
        "# Total de gols sofridos por times visitantes:\n",
        "\n",
        "df_away_goals_suffered = df.groupby('awayteam').agg({'home_goals': 'sum'})"
      ],
      "metadata": {
        "id": "wI61tPDXXfsE"
      },
      "execution_count": 59,
      "outputs": []
    },
    {
      "cell_type": "code",
      "source": [
        "# Total de gols sofridos por cada time:\n",
        "\n",
        "df_goals_suffered = df_home_goals_suffered.join(df_away_goals_suffered).assign(total_goals_suffered = \n",
        "                                                           df_home_goals_suffered.join(\n",
        "                                                               df_away_goals_suffered).home_goals +\n",
        "                                                           df_home_goals_suffered.join(\n",
        "                                                               df_away_goals_suffered).away_goals).drop(\n",
        "                                                                   columns = ['away_goals',\n",
        "                                                                              'home_goals']\n",
        "                                                               ).reset_index().rename(columns = {'hometeam': 'team'}).sort_values(\n",
        "                                                                   'total_goals_suffered', ascending = False\n",
        "                                                               )"
      ],
      "metadata": {
        "id": "I93TocYGX8uC"
      },
      "execution_count": 60,
      "outputs": []
    },
    {
      "cell_type": "code",
      "source": [
        "# Quantidade de gols sofridos por cada time:\n",
        "\n",
        "ax = sns.barplot(x = df_goals_suffered.total_goals_suffered, y = df_goals_suffered.team, palette = 'Spectral_r', alpha = 0.9)\n",
        "ax.set_ylabel('')\n",
        "ax.set_yticklabels(df_goals_suffered.team, fontsize = 11, color = 'k')\n",
        "ax.figure.set_size_inches(12, 5)\n",
        "ax.set_xlabel('Quantidade de Gols Sofridos', fontsize = 12, color = 'k')\n",
        "ax.set_xticklabels(list(range(0, 81, 10)), fontsize = 11, color = 'k')\n",
        "ax.set_title('Quantidade de Gols Sofridos X Time (2021-2022)', fontsize = 13, color = 'k')\n",
        "plt.show()"
      ],
      "metadata": {
        "colab": {
          "base_uri": "https://localhost:8080/",
          "height": 353
        },
        "id": "t3-c4TvZYKOW",
        "outputId": "c5bf5755-88fd-4f70-fa16-7f92ad0d96ce"
      },
      "execution_count": 61,
      "outputs": [
        {
          "output_type": "display_data",
          "data": {
            "text/plain": [
              "<Figure size 864x360 with 1 Axes>"
            ],
            "image/png": "[encoded data removed]"
          },
          "metadata": {}
        }
      ]
    },
    {
      "cell_type": "markdown",
      "source": [
        "#### (11) Qual é a correlação entre a quantidade de gols sofridos e a quantidade de faltas cometidas?"
      ],
      "metadata": {
        "id": "mFjpajzoabj7"
      }
    },
    {
      "cell_type": "code",
      "source": [
        "# Quantidade de faltas cometidas por cada time:\n",
        "\n",
        "df_team_fouls = df.groupby('hometeam').agg({'home_fouls': 'sum'}).join(df.groupby('awayteam').agg({'away_fouls': 'sum'})).assign(total_fouls = \n",
        "  df.groupby('hometeam').agg({'home_fouls': 'sum'}).join(df.groupby('awayteam').agg({'away_fouls': 'sum'})).home_fouls +\n",
        "  df.groupby('hometeam').agg({'home_fouls': 'sum'}).join(df.groupby('awayteam').agg({'away_fouls': 'sum'})).away_fouls  \n",
        ").drop(columns = ['home_fouls', 'away_fouls']).reset_index().rename(columns = {'hometeam': 'team'}).sort_values(\n",
        "    'total_fouls', ascending = False\n",
        ")"
      ],
      "metadata": {
        "id": "DTa2jxF73jaM"
      },
      "execution_count": 62,
      "outputs": []
    },
    {
      "cell_type": "code",
      "source": [
        "# Correlação entre gols sofridos e faltas cometidas:\n",
        "\n",
        "print('Correlação - Gols Sofridos X Faltas Cometidas: ', df_goals_suffered.merge(df_team_fouls, how = 'inner', on = 'team').total_goals_suffered.corr(\n",
        "   df_goals_suffered.merge(df_team_fouls, how = 'inner', on = 'team').total_fouls\n",
        ").round(2))"
      ],
      "metadata": {
        "colab": {
          "base_uri": "https://localhost:8080/"
        },
        "id": "LTQ7dOSZa4bd",
        "outputId": "7d11bb44-0e18-4a07-f137-bc92a45259a7"
      },
      "execution_count": 63,
      "outputs": [
        {
          "output_type": "stream",
          "name": "stdout",
          "text": [
            "Correlação - Gols Sofridos X Faltas Cometidas:  0.42\n"
          ]
        }
      ]
    },
    {
      "cell_type": "code",
      "source": [
        "# Junção entre a quantidade de gols sofridos e quantidade de faltas cometidas por cada time:\n",
        "\n",
        "df_goals_suffered = df_goals_suffered.merge(df_team_fouls, how = 'inner', on = 'team')"
      ],
      "metadata": {
        "id": "Zd0FOFaG42zu"
      },
      "execution_count": 64,
      "outputs": []
    },
    {
      "cell_type": "code",
      "source": [
        "# Visualização da quantidade de gols sofridos e quantidade de faltas cometidas por cada time:\n",
        "\n",
        "df_goals_suffered"
      ],
      "metadata": {
        "colab": {
          "base_uri": "https://localhost:8080/",
          "height": 677
        },
        "id": "O3Ult3_r497s",
        "outputId": "f03e947c-2e35-43df-8f42-5ee53e4e2fbf"
      },
      "execution_count": 65,
      "outputs": [
        {
          "output_type": "execute_result",
          "data": {
            "text/plain": [
              "              team  total_goals_suffered  total_fouls\n",
              "0          Norwich                    84          356\n",
              "1            Leeds                    79          469\n",
              "2          Watford                    77          440\n",
              "3      Southampton                    67          402\n",
              "4          Everton                    66          368\n",
              "5        Newcastle                    62          391\n",
              "6        Leicester                    59          356\n",
              "7       Man United                    57          395\n",
              "8        Brentford                    56          371\n",
              "9      Aston Villa                    54          401\n",
              "10         Burnley                    53          394\n",
              "11        West Ham                    51          324\n",
              "12         Arsenal                    48          363\n",
              "13  Crystal Palace                    46          415\n",
              "14        Brighton                    44          393\n",
              "15          Wolves                    43          365\n",
              "16       Tottenham                    40          386\n",
              "17         Chelsea                    33          409\n",
              "18        Man City                    26          320\n",
              "19       Liverpool                    26          363"
            ],
            "text/html": [
              "\n",
              "  <div id=\"df-062e8db1-6501-4889-8c5d-f9456ba7f8eb\">\n",
              "    <div class=\"colab-df-container\">\n",
              "      <div>\n",
              "<style scoped>\n",
              "    .dataframe tbody tr th:only-of-type {\n",
              "        vertical-align: middle;\n",
              "    }\n",
              "\n",
              "    .dataframe tbody tr th {\n",
              "        vertical-align: top;\n",
              "    }\n",
              "\n",
              "    .dataframe thead th {\n",
              "        text-align: right;\n",
              "    }\n",
              "</style>\n",
              "<table border=\"1\" class=\"dataframe\">\n",
              "  <thead>\n",
              "    <tr style=\"text-align: right;\">\n",
              "      <th></th>\n",
              "      <th>team</th>\n",
              "      <th>total_goals_suffered</th>\n",
              "      <th>total_fouls</th>\n",
              "    </tr>\n",
              "  </thead>\n",
              "  <tbody>\n",
              "    <tr>\n",
              "      <th>0</th>\n",
              "      <td>Norwich</td>\n",
              "      <td>84</td>\n",
              "      <td>356</td>\n",
              "    </tr>\n",
              "    <tr>\n",
              "      <th>1</th>\n",
              "      <td>Leeds</td>\n",
              "      <td>79</td>\n",
              "      <td>469</td>\n",
              "    </tr>\n",
              "    <tr>\n",
              "      <th>2</th>\n",
              "      <td>Watford</td>\n",
              "      <td>77</td>\n",
              "      <td>440</td>\n",
              "    </tr>\n",
              "    <tr>\n",
              "      <th>3</th>\n",
              "      <td>Southampton</td>\n",
              "      <td>67</td>\n",
              "      <td>402</td>\n",
              "    </tr>\n",
              "    <tr>\n",
              "      <th>4</th>\n",
              "      <td>Everton</td>\n",
              "      <td>66</td>\n",
              "      <td>368</td>\n",
              "    </tr>\n",
              "    <tr>\n",
              "      <th>5</th>\n",
              "      <td>Newcastle</td>\n",
              "      <td>62</td>\n",
              "      <td>391</td>\n",
              "    </tr>\n",
              "    <tr>\n",
              "      <th>6</th>\n",
              "      <td>Leicester</td>\n",
              "      <td>59</td>\n",
              "      <td>356</td>\n",
              "    </tr>\n",
              "    <tr>\n",
              "      <th>7</th>\n",
              "      <td>Man United</td>\n",
              "      <td>57</td>\n",
              "      <td>395</td>\n",
              "    </tr>\n",
              "    <tr>\n",
              "      <th>8</th>\n",
              "      <td>Brentford</td>\n",
              "      <td>56</td>\n",
              "      <td>371</td>\n",
              "    </tr>\n",
              "    <tr>\n",
              "      <th>9</th>\n",
              "      <td>Aston Villa</td>\n",
              "      <td>54</td>\n",
              "      <td>401</td>\n",
              "    </tr>\n",
              "    <tr>\n",
              "      <th>10</th>\n",
              "      <td>Burnley</td>\n",
              "      <td>53</td>\n",
              "      <td>394</td>\n",
              "    </tr>\n",
              "    <tr>\n",
              "      <th>11</th>\n",
              "      <td>West Ham</td>\n",
              "      <td>51</td>\n",
              "      <td>324</td>\n",
              "    </tr>\n",
              "    <tr>\n",
              "      <th>12</th>\n",
              "      <td>Arsenal</td>\n",
              "      <td>48</td>\n",
              "      <td>363</td>\n",
              "    </tr>\n",
              "    <tr>\n",
              "      <th>13</th>\n",
              "      <td>Crystal Palace</td>\n",
              "      <td>46</td>\n",
              "      <td>415</td>\n",
              "    </tr>\n",
              "    <tr>\n",
              "      <th>14</th>\n",
              "      <td>Brighton</td>\n",
              "      <td>44</td>\n",
              "      <td>393</td>\n",
              "    </tr>\n",
              "    <tr>\n",
              "      <th>15</th>\n",
              "      <td>Wolves</td>\n",
              "      <td>43</td>\n",
              "      <td>365</td>\n",
              "    </tr>\n",
              "    <tr>\n",
              "      <th>16</th>\n",
              "      <td>Tottenham</td>\n",
              "      <td>40</td>\n",
              "      <td>386</td>\n",
              "    </tr>\n",
              "    <tr>\n",
              "      <th>17</th>\n",
              "      <td>Chelsea</td>\n",
              "      <td>33</td>\n",
              "      <td>409</td>\n",
              "    </tr>\n",
              "    <tr>\n",
              "      <th>18</th>\n",
              "      <td>Man City</td>\n",
              "      <td>26</td>\n",
              "      <td>320</td>\n",
              "    </tr>\n",
              "    <tr>\n",
              "      <th>19</th>\n",
              "      <td>Liverpool</td>\n",
              "      <td>26</td>\n",
              "      <td>363</td>\n",
              "    </tr>\n",
              "  </tbody>\n",
              "</table>\n",
              "</div>\n",
              "      <button class=\"colab-df-convert\" onclick=\"convertToInteractive('df-062e8db1-6501-4889-8c5d-f9456ba7f8eb')\"\n",
              "              title=\"Convert this dataframe to an interactive table.\"\n",
              "              style=\"display:none;\">\n",
              "        \n",
              "  <svg xmlns=\"http://www.w3.org/2000/svg\" height=\"24px\"viewBox=\"0 0 24 24\"\n",
              "       width=\"24px\">\n",
              "    <path d=\"M0 0h24v24H0V0z\" fill=\"none\"/>\n",
              "    <path d=\"M18.56 5.44l.94 2.06.94-2.06 2.06-.94-2.06-.94-.94-2.06-.94 2.06-2.06.94zm-11 1L8.5 8.5l.94-2.06 2.06-.94-2.06-.94L8.5 2.5l-.94 2.06-2.06.94zm10 10l.94 2.06.94-2.06 2.06-.94-2.06-.94-.94-2.06-.94 2.06-2.06.94z\"/><path d=\"M17.41 7.96l-1.37-1.37c-.4-.4-.92-.59-1.43-.59-.52 0-1.04.2-1.43.59L10.3 9.45l-7.72 7.72c-.78.78-.78 2.05 0 2.83L4 21.41c.39.39.9.59 1.41.59.51 0 1.02-.2 1.41-.59l7.78-7.78 2.81-2.81c.8-.78.8-2.07 0-2.86zM5.41 20L4 18.59l7.72-7.72 1.47 1.35L5.41 20z\"/>\n",
              "  </svg>\n",
              "      </button>\n",
              "      \n",
              "  <style>\n",
              "    .colab-df-container {\n",
              "      display:flex;\n",
              "      flex-wrap:wrap;\n",
              "      gap: 12px;\n",
              "    }\n",
              "\n",
              "    .colab-df-convert {\n",
              "      background-color: #E8F0FE;\n",
              "      border: none;\n",
              "      border-radius: 50%;\n",
              "      cursor: pointer;\n",
              "      display: none;\n",
              "      fill: #1967D2;\n",
              "      height: 32px;\n",
              "      padding: 0 0 0 0;\n",
              "      width: 32px;\n",
              "    }\n",
              "\n",
              "    .colab-df-convert:hover {\n",
              "      background-color: #E2EBFA;\n",
              "      box-shadow: 0px 1px 2px rgba(60, 64, 67, 0.3), 0px 1px 3px 1px rgba(60, 64, 67, 0.15);\n",
              "      fill: #174EA6;\n",
              "    }\n",
              "\n",
              "    [theme=dark] .colab-df-convert {\n",
              "      background-color: #3B4455;\n",
              "      fill: #D2E3FC;\n",
              "    }\n",
              "\n",
              "    [theme=dark] .colab-df-convert:hover {\n",
              "      background-color: #434B5C;\n",
              "      box-shadow: 0px 1px 3px 1px rgba(0, 0, 0, 0.15);\n",
              "      filter: drop-shadow(0px 1px 2px rgba(0, 0, 0, 0.3));\n",
              "      fill: #FFFFFF;\n",
              "    }\n",
              "  </style>\n",
              "\n",
              "      <script>\n",
              "        const buttonEl =\n",
              "          document.querySelector('#df-062e8db1-6501-4889-8c5d-f9456ba7f8eb button.colab-df-convert');\n",
              "        buttonEl.style.display =\n",
              "          google.colab.kernel.accessAllowed ? 'block' : 'none';\n",
              "\n",
              "        async function convertToInteractive(key) {\n",
              "          const element = document.querySelector('#df-062e8db1-6501-4889-8c5d-f9456ba7f8eb');\n",
              "          const dataTable =\n",
              "            await google.colab.kernel.invokeFunction('convertToInteractive',\n",
              "                                                     [key], {});\n",
              "          if (!dataTable) return;\n",
              "\n",
              "          const docLinkHtml = 'Like what you see? Visit the ' +\n",
              "            '<a target=\"_blank\" href=https://colab.research.google.com/notebooks/data_table.ipynb>data table notebook</a>'\n",
              "            + ' to learn more about interactive tables.';\n",
              "          element.innerHTML = '';\n",
              "          dataTable['output_type'] = 'display_data';\n",
              "          await google.colab.output.renderOutput(dataTable, element);\n",
              "          const docLink = document.createElement('div');\n",
              "          docLink.innerHTML = docLinkHtml;\n",
              "          element.appendChild(docLink);\n",
              "        }\n",
              "      </script>\n",
              "    </div>\n",
              "  </div>\n",
              "  "
            ]
          },
          "metadata": {},
          "execution_count": 65
        }
      ]
    },
    {
      "cell_type": "code",
      "source": [
        "# Gráfico de scatterplot para vermos a correlação entre quantidade de gols e quantidade de chutes:\n",
        "\n",
        "ax = sns.regplot(data = df_goals_suffered,\n",
        "                 x = 'total_goals_suffered',\n",
        "                 y = 'total_fouls',\n",
        "                 color = sns.color_palette('Spectral')[5])\n",
        "ax.figure.set_size_inches(12, 5)\n",
        "ax.set_xlabel('Gols Sofridos', fontsize = 12, color = 'k')\n",
        "ax.set_ylabel('Faltas Cometidas', fontsize = 12, color = 'k')\n",
        "ax.set_xticklabels([30, 30, 40, 50, 60, 70, 80],\n",
        "                 fontsize = 11, color = 'k')\n",
        "ax.set_yticklabels([320, 320, 340, 360, 380, 400, 420, 440, 460], fontsize = 11, color = 'k')\n",
        "ax.set_title('Correlação - Faltas Cometidas X Gols Sofridos', fontsize = 13, color = 'k')\n",
        "plt.show()"
      ],
      "metadata": {
        "colab": {
          "base_uri": "https://localhost:8080/",
          "height": 353
        },
        "id": "WPMjX6cAa9As",
        "outputId": "ca281c25-771c-4e3a-8785-d7809de05f04"
      },
      "execution_count": 66,
      "outputs": [
        {
          "output_type": "display_data",
          "data": {
            "text/plain": [
              "<Figure size 864x360 with 1 Axes>"
            ],
            "image/png": "[encoded data removed]"
          },
          "metadata": {}
        }
      ]
    },
    {
      "cell_type": "markdown",
      "source": [
        "#### (12) Traga insights informacionais sobre às demais variáveis não-analisadas."
      ],
      "metadata": {
        "id": "xbdpDF7fb9-J"
      }
    },
    {
      "cell_type": "code",
      "source": [
        "# Verificação da quantidade de colunas do dataset:\n",
        "\n",
        "df.shape[1]"
      ],
      "metadata": {
        "colab": {
          "base_uri": "https://localhost:8080/"
        },
        "id": "VCWPBhkVcBoL",
        "outputId": "8ba9f21a-b5fc-48b8-c201-2d9eba8bab67"
      },
      "execution_count": 67,
      "outputs": [
        {
          "output_type": "execute_result",
          "data": {
            "text/plain": [
              "21"
            ]
          },
          "metadata": {},
          "execution_count": 67
        }
      ]
    },
    {
      "cell_type": "code",
      "source": [
        "# Mudança da configuração padrão da quantidade de colunas vísiveis, para podermos ver todas as colunas ao \n",
        "# usarmos a função df.head():\n",
        "\n",
        "pd.set_option('max_column', 21)"
      ],
      "metadata": {
        "id": "bDTZQlhialiZ"
      },
      "execution_count": 68,
      "outputs": []
    },
    {
      "cell_type": "code",
      "source": [
        "# Correlação entre às demais variáveis não-avaliadas:\n",
        "\n",
        "df[['home_goals', 'away_goals',  'home_shots',\n",
        "    'away_shots', 'home_fouls', 'away_fouls',\n",
        "    'home_corners', 'away_corners', 'home_yellow_cards',\n",
        "    'away_yellow_cards', 'home_red_cards', 'away_red_cards', 'total_goals']].corr()"
      ],
      "metadata": {
        "id": "y1qCkkVa5Jvj",
        "colab": {
          "base_uri": "https://localhost:8080/",
          "height": 521
        },
        "outputId": "33626e2b-ab9f-4e14-cecb-4e5851e12d9a"
      },
      "execution_count": 69,
      "outputs": [
        {
          "output_type": "execute_result",
          "data": {
            "text/plain": [
              "                   home_goals  away_goals  home_shots  away_shots  home_fouls  \\\n",
              "home_goals           1.000000   -0.209398    0.398649   -0.279169   -0.084764   \n",
              "away_goals          -0.209398    1.000000   -0.285164    0.421095   -0.019115   \n",
              "home_shots           0.398649   -0.285164    1.000000   -0.518372   -0.070467   \n",
              "away_shots          -0.279169    0.421095   -0.518372    1.000000   -0.042322   \n",
              "home_fouls          -0.084764   -0.019115   -0.070467   -0.042322    1.000000   \n",
              "away_fouls          -0.022888   -0.007506   -0.053369   -0.035185    0.145590   \n",
              "home_corners         0.125710   -0.150056    0.519120   -0.386344   -0.000419   \n",
              "away_corners        -0.226944    0.081803   -0.410650    0.557294   -0.135338   \n",
              "home_yellow_cards   -0.231188    0.083773   -0.203000    0.131434    0.376410   \n",
              "away_yellow_cards   -0.039143    0.007851    0.002724   -0.034277    0.199383   \n",
              "home_red_cards      -0.101611    0.174967   -0.135954    0.173732    0.093093   \n",
              "away_red_cards       0.119914   -0.157706    0.160075   -0.199876    0.002119   \n",
              "total_goals          0.653575    0.603225    0.104436    0.098231   -0.083933   \n",
              "\n",
              "                   away_fouls  home_corners  away_corners  home_yellow_cards  \\\n",
              "home_goals          -0.022888      0.125710     -0.226944          -0.231188   \n",
              "away_goals          -0.007506     -0.150056      0.081803           0.083773   \n",
              "home_shots          -0.053369      0.519120     -0.410650          -0.203000   \n",
              "away_shots          -0.035185     -0.386344      0.557294           0.131434   \n",
              "home_fouls           0.145590     -0.000419     -0.135338           0.376410   \n",
              "away_fouls           1.000000     -0.087862     -0.039238           0.103100   \n",
              "home_corners        -0.087862      1.000000     -0.314557          -0.060523   \n",
              "away_corners        -0.039238     -0.314557      1.000000          -0.011974   \n",
              "home_yellow_cards    0.103100     -0.060523     -0.011974           1.000000   \n",
              "away_yellow_cards    0.329915      0.025085     -0.090398           0.254331   \n",
              "home_red_cards      -0.018510     -0.111507      0.001678           0.051051   \n",
              "away_red_cards       0.088010      0.105608     -0.192884           0.002900   \n",
              "total_goals         -0.024478     -0.013611     -0.121790          -0.123727   \n",
              "\n",
              "                   away_yellow_cards  home_red_cards  away_red_cards  \\\n",
              "home_goals                 -0.039143       -0.101611        0.119914   \n",
              "away_goals                  0.007851        0.174967       -0.157706   \n",
              "home_shots                  0.002724       -0.135954        0.160075   \n",
              "away_shots                 -0.034277        0.173732       -0.199876   \n",
              "home_fouls                  0.199383        0.093093        0.002119   \n",
              "away_fouls                  0.329915       -0.018510        0.088010   \n",
              "home_corners                0.025085       -0.111507        0.105608   \n",
              "away_corners               -0.090398        0.001678       -0.192884   \n",
              "home_yellow_cards           0.254331        0.051051        0.002900   \n",
              "away_yellow_cards           1.000000        0.035880       -0.042892   \n",
              "home_red_cards              0.035880        1.000000       -0.056518   \n",
              "away_red_cards             -0.042892       -0.056518        1.000000   \n",
              "total_goals                -0.025850        0.052549       -0.024259   \n",
              "\n",
              "                   total_goals  \n",
              "home_goals            0.653575  \n",
              "away_goals            0.603225  \n",
              "home_shots            0.104436  \n",
              "away_shots            0.098231  \n",
              "home_fouls           -0.083933  \n",
              "away_fouls           -0.024478  \n",
              "home_corners         -0.013611  \n",
              "away_corners         -0.121790  \n",
              "home_yellow_cards    -0.123727  \n",
              "away_yellow_cards    -0.025850  \n",
              "home_red_cards        0.052549  \n",
              "away_red_cards       -0.024259  \n",
              "total_goals           1.000000  "
            ],
            "text/html": [
              "\n",
              "  <div id=\"df-622d6771-51e8-4838-b2bb-92284d9794df\">\n",
              "    <div class=\"colab-df-container\">\n",
              "      <div>\n",
              "<style scoped>\n",
              "    .dataframe tbody tr th:only-of-type {\n",
              "        vertical-align: middle;\n",
              "    }\n",
              "\n",
              "    .dataframe tbody tr th {\n",
              "        vertical-align: top;\n",
              "    }\n",
              "\n",
              "    .dataframe thead th {\n",
              "        text-align: right;\n",
              "    }\n",
              "</style>\n",
              "<table border=\"1\" class=\"dataframe\">\n",
              "  <thead>\n",
              "    <tr style=\"text-align: right;\">\n",
              "      <th></th>\n",
              "      <th>home_goals</th>\n",
              "      <th>away_goals</th>\n",
              "      <th>home_shots</th>\n",
              "      <th>away_shots</th>\n",
              "      <th>home_fouls</th>\n",
              "      <th>away_fouls</th>\n",
              "      <th>home_corners</th>\n",
              "      <th>away_corners</th>\n",
              "      <th>home_yellow_cards</th>\n",
              "      <th>away_yellow_cards</th>\n",
              "      <th>home_red_cards</th>\n",
              "      <th>away_red_cards</th>\n",
              "      <th>total_goals</th>\n",
              "    </tr>\n",
              "  </thead>\n",
              "  <tbody>\n",
              "    <tr>\n",
              "      <th>home_goals</th>\n",
              "      <td>1.000000</td>\n",
              "      <td>-0.209398</td>\n",
              "      <td>0.398649</td>\n",
              "      <td>-0.279169</td>\n",
              "      <td>-0.084764</td>\n",
              "      <td>-0.022888</td>\n",
              "      <td>0.125710</td>\n",
              "      <td>-0.226944</td>\n",
              "      <td>-0.231188</td>\n",
              "      <td>-0.039143</td>\n",
              "      <td>-0.101611</td>\n",
              "      <td>0.119914</td>\n",
              "      <td>0.653575</td>\n",
              "    </tr>\n",
              "    <tr>\n",
              "      <th>away_goals</th>\n",
              "      <td>-0.209398</td>\n",
              "      <td>1.000000</td>\n",
              "      <td>-0.285164</td>\n",
              "      <td>0.421095</td>\n",
              "      <td>-0.019115</td>\n",
              "      <td>-0.007506</td>\n",
              "      <td>-0.150056</td>\n",
              "      <td>0.081803</td>\n",
              "      <td>0.083773</td>\n",
              "      <td>0.007851</td>\n",
              "      <td>0.174967</td>\n",
              "      <td>-0.157706</td>\n",
              "      <td>0.603225</td>\n",
              "    </tr>\n",
              "    <tr>\n",
              "      <th>home_shots</th>\n",
              "      <td>0.398649</td>\n",
              "      <td>-0.285164</td>\n",
              "      <td>1.000000</td>\n",
              "      <td>-0.518372</td>\n",
              "      <td>-0.070467</td>\n",
              "      <td>-0.053369</td>\n",
              "      <td>0.519120</td>\n",
              "      <td>-0.410650</td>\n",
              "      <td>-0.203000</td>\n",
              "      <td>0.002724</td>\n",
              "      <td>-0.135954</td>\n",
              "      <td>0.160075</td>\n",
              "      <td>0.104436</td>\n",
              "    </tr>\n",
              "    <tr>\n",
              "      <th>away_shots</th>\n",
              "      <td>-0.279169</td>\n",
              "      <td>0.421095</td>\n",
              "      <td>-0.518372</td>\n",
              "      <td>1.000000</td>\n",
              "      <td>-0.042322</td>\n",
              "      <td>-0.035185</td>\n",
              "      <td>-0.386344</td>\n",
              "      <td>0.557294</td>\n",
              "      <td>0.131434</td>\n",
              "      <td>-0.034277</td>\n",
              "      <td>0.173732</td>\n",
              "      <td>-0.199876</td>\n",
              "      <td>0.098231</td>\n",
              "    </tr>\n",
              "    <tr>\n",
              "      <th>home_fouls</th>\n",
              "      <td>-0.084764</td>\n",
              "      <td>-0.019115</td>\n",
              "      <td>-0.070467</td>\n",
              "      <td>-0.042322</td>\n",
              "      <td>1.000000</td>\n",
              "      <td>0.145590</td>\n",
              "      <td>-0.000419</td>\n",
              "      <td>-0.135338</td>\n",
              "      <td>0.376410</td>\n",
              "      <td>0.199383</td>\n",
              "      <td>0.093093</td>\n",
              "      <td>0.002119</td>\n",
              "      <td>-0.083933</td>\n",
              "    </tr>\n",
              "    <tr>\n",
              "      <th>away_fouls</th>\n",
              "      <td>-0.022888</td>\n",
              "      <td>-0.007506</td>\n",
              "      <td>-0.053369</td>\n",
              "      <td>-0.035185</td>\n",
              "      <td>0.145590</td>\n",
              "      <td>1.000000</td>\n",
              "      <td>-0.087862</td>\n",
              "      <td>-0.039238</td>\n",
              "      <td>0.103100</td>\n",
              "      <td>0.329915</td>\n",
              "      <td>-0.018510</td>\n",
              "      <td>0.088010</td>\n",
              "      <td>-0.024478</td>\n",
              "    </tr>\n",
              "    <tr>\n",
              "      <th>home_corners</th>\n",
              "      <td>0.125710</td>\n",
              "      <td>-0.150056</td>\n",
              "      <td>0.519120</td>\n",
              "      <td>-0.386344</td>\n",
              "      <td>-0.000419</td>\n",
              "      <td>-0.087862</td>\n",
              "      <td>1.000000</td>\n",
              "      <td>-0.314557</td>\n",
              "      <td>-0.060523</td>\n",
              "      <td>0.025085</td>\n",
              "      <td>-0.111507</td>\n",
              "      <td>0.105608</td>\n",
              "      <td>-0.013611</td>\n",
              "    </tr>\n",
              "    <tr>\n",
              "      <th>away_corners</th>\n",
              "      <td>-0.226944</td>\n",
              "      <td>0.081803</td>\n",
              "      <td>-0.410650</td>\n",
              "      <td>0.557294</td>\n",
              "      <td>-0.135338</td>\n",
              "      <td>-0.039238</td>\n",
              "      <td>-0.314557</td>\n",
              "      <td>1.000000</td>\n",
              "      <td>-0.011974</td>\n",
              "      <td>-0.090398</td>\n",
              "      <td>0.001678</td>\n",
              "      <td>-0.192884</td>\n",
              "      <td>-0.121790</td>\n",
              "    </tr>\n",
              "    <tr>\n",
              "      <th>home_yellow_cards</th>\n",
              "      <td>-0.231188</td>\n",
              "      <td>0.083773</td>\n",
              "      <td>-0.203000</td>\n",
              "      <td>0.131434</td>\n",
              "      <td>0.376410</td>\n",
              "      <td>0.103100</td>\n",
              "      <td>-0.060523</td>\n",
              "      <td>-0.011974</td>\n",
              "      <td>1.000000</td>\n",
              "      <td>0.254331</td>\n",
              "      <td>0.051051</td>\n",
              "      <td>0.002900</td>\n",
              "      <td>-0.123727</td>\n",
              "    </tr>\n",
              "    <tr>\n",
              "      <th>away_yellow_cards</th>\n",
              "      <td>-0.039143</td>\n",
              "      <td>0.007851</td>\n",
              "      <td>0.002724</td>\n",
              "      <td>-0.034277</td>\n",
              "      <td>0.199383</td>\n",
              "      <td>0.329915</td>\n",
              "      <td>0.025085</td>\n",
              "      <td>-0.090398</td>\n",
              "      <td>0.254331</td>\n",
              "      <td>1.000000</td>\n",
              "      <td>0.035880</td>\n",
              "      <td>-0.042892</td>\n",
              "      <td>-0.025850</td>\n",
              "    </tr>\n",
              "    <tr>\n",
              "      <th>home_red_cards</th>\n",
              "      <td>-0.101611</td>\n",
              "      <td>0.174967</td>\n",
              "      <td>-0.135954</td>\n",
              "      <td>0.173732</td>\n",
              "      <td>0.093093</td>\n",
              "      <td>-0.018510</td>\n",
              "      <td>-0.111507</td>\n",
              "      <td>0.001678</td>\n",
              "      <td>0.051051</td>\n",
              "      <td>0.035880</td>\n",
              "      <td>1.000000</td>\n",
              "      <td>-0.056518</td>\n",
              "      <td>0.052549</td>\n",
              "    </tr>\n",
              "    <tr>\n",
              "      <th>away_red_cards</th>\n",
              "      <td>0.119914</td>\n",
              "      <td>-0.157706</td>\n",
              "      <td>0.160075</td>\n",
              "      <td>-0.199876</td>\n",
              "      <td>0.002119</td>\n",
              "      <td>0.088010</td>\n",
              "      <td>0.105608</td>\n",
              "      <td>-0.192884</td>\n",
              "      <td>0.002900</td>\n",
              "      <td>-0.042892</td>\n",
              "      <td>-0.056518</td>\n",
              "      <td>1.000000</td>\n",
              "      <td>-0.024259</td>\n",
              "    </tr>\n",
              "    <tr>\n",
              "      <th>total_goals</th>\n",
              "      <td>0.653575</td>\n",
              "      <td>0.603225</td>\n",
              "      <td>0.104436</td>\n",
              "      <td>0.098231</td>\n",
              "      <td>-0.083933</td>\n",
              "      <td>-0.024478</td>\n",
              "      <td>-0.013611</td>\n",
              "      <td>-0.121790</td>\n",
              "      <td>-0.123727</td>\n",
              "      <td>-0.025850</td>\n",
              "      <td>0.052549</td>\n",
              "      <td>-0.024259</td>\n",
              "      <td>1.000000</td>\n",
              "    </tr>\n",
              "  </tbody>\n",
              "</table>\n",
              "</div>\n",
              "      <button class=\"colab-df-convert\" onclick=\"convertToInteractive('df-622d6771-51e8-4838-b2bb-92284d9794df')\"\n",
              "              title=\"Convert this dataframe to an interactive table.\"\n",
              "              style=\"display:none;\">\n",
              "        \n",
              "  <svg xmlns=\"http://www.w3.org/2000/svg\" height=\"24px\"viewBox=\"0 0 24 24\"\n",
              "       width=\"24px\">\n",
              "    <path d=\"M0 0h24v24H0V0z\" fill=\"none\"/>\n",
              "    <path d=\"M18.56 5.44l.94 2.06.94-2.06 2.06-.94-2.06-.94-.94-2.06-.94 2.06-2.06.94zm-11 1L8.5 8.5l.94-2.06 2.06-.94-2.06-.94L8.5 2.5l-.94 2.06-2.06.94zm10 10l.94 2.06.94-2.06 2.06-.94-2.06-.94-.94-2.06-.94 2.06-2.06.94z\"/><path d=\"M17.41 7.96l-1.37-1.37c-.4-.4-.92-.59-1.43-.59-.52 0-1.04.2-1.43.59L10.3 9.45l-7.72 7.72c-.78.78-.78 2.05 0 2.83L4 21.41c.39.39.9.59 1.41.59.51 0 1.02-.2 1.41-.59l7.78-7.78 2.81-2.81c.8-.78.8-2.07 0-2.86zM5.41 20L4 18.59l7.72-7.72 1.47 1.35L5.41 20z\"/>\n",
              "  </svg>\n",
              "      </button>\n",
              "      \n",
              "  <style>\n",
              "    .colab-df-container {\n",
              "      display:flex;\n",
              "      flex-wrap:wrap;\n",
              "      gap: 12px;\n",
              "    }\n",
              "\n",
              "    .colab-df-convert {\n",
              "      background-color: #E8F0FE;\n",
              "      border: none;\n",
              "      border-radius: 50%;\n",
              "      cursor: pointer;\n",
              "      display: none;\n",
              "      fill: #1967D2;\n",
              "      height: 32px;\n",
              "      padding: 0 0 0 0;\n",
              "      width: 32px;\n",
              "    }\n",
              "\n",
              "    .colab-df-convert:hover {\n",
              "      background-color: #E2EBFA;\n",
              "      box-shadow: 0px 1px 2px rgba(60, 64, 67, 0.3), 0px 1px 3px 1px rgba(60, 64, 67, 0.15);\n",
              "      fill: #174EA6;\n",
              "    }\n",
              "\n",
              "    [theme=dark] .colab-df-convert {\n",
              "      background-color: #3B4455;\n",
              "      fill: #D2E3FC;\n",
              "    }\n",
              "\n",
              "    [theme=dark] .colab-df-convert:hover {\n",
              "      background-color: #434B5C;\n",
              "      box-shadow: 0px 1px 3px 1px rgba(0, 0, 0, 0.15);\n",
              "      filter: drop-shadow(0px 1px 2px rgba(0, 0, 0, 0.3));\n",
              "      fill: #FFFFFF;\n",
              "    }\n",
              "  </style>\n",
              "\n",
              "      <script>\n",
              "        const buttonEl =\n",
              "          document.querySelector('#df-622d6771-51e8-4838-b2bb-92284d9794df button.colab-df-convert');\n",
              "        buttonEl.style.display =\n",
              "          google.colab.kernel.accessAllowed ? 'block' : 'none';\n",
              "\n",
              "        async function convertToInteractive(key) {\n",
              "          const element = document.querySelector('#df-622d6771-51e8-4838-b2bb-92284d9794df');\n",
              "          const dataTable =\n",
              "            await google.colab.kernel.invokeFunction('convertToInteractive',\n",
              "                                                     [key], {});\n",
              "          if (!dataTable) return;\n",
              "\n",
              "          const docLinkHtml = 'Like what you see? Visit the ' +\n",
              "            '<a target=\"_blank\" href=https://colab.research.google.com/notebooks/data_table.ipynb>data table notebook</a>'\n",
              "            + ' to learn more about interactive tables.';\n",
              "          element.innerHTML = '';\n",
              "          dataTable['output_type'] = 'display_data';\n",
              "          await google.colab.output.renderOutput(dataTable, element);\n",
              "          const docLink = document.createElement('div');\n",
              "          docLink.innerHTML = docLinkHtml;\n",
              "          element.appendChild(docLink);\n",
              "        }\n",
              "      </script>\n",
              "    </div>\n",
              "  </div>\n",
              "  "
            ]
          },
          "metadata": {},
          "execution_count": 69
        }
      ]
    },
    {
      "cell_type": "code",
      "source": [
        "# Quantidade de escanteios cobrados pelos times mandantes e visitantes: \n",
        "\n",
        "df_corners_team = df.groupby('hometeam').agg({'home_corners': 'sum'}).sort_values('home_corners',\n",
        "                                                                ascending = False).join(\n",
        "                                                                    df.groupby('awayteam').agg({'away_corners': 'sum'}).sort_values('away_corners',\n",
        "                                                                ascending = False))"
      ],
      "metadata": {
        "id": "_agaDoAQajBK"
      },
      "execution_count": 70,
      "outputs": []
    },
    {
      "cell_type": "code",
      "source": [
        "# Quantidade de escanteios cobrados por cada time:\n",
        "\n",
        "df_corners = df_corners_team.assign(total_corners = df_corners_team['home_corners'] + \n",
        "                       df_corners_team['away_corners']).drop(columns = ['away_corners',\n",
        "                                                                        'home_corners']).reset_index().rename(columns = {\n",
        "                                                                            'hometeam': 'team'\n",
        "                                                                        })"
      ],
      "metadata": {
        "id": "QNcWhUn5dh86"
      },
      "execution_count": 71,
      "outputs": []
    },
    {
      "cell_type": "code",
      "source": [
        "# Visualização da quantidade de escanteios cobrados por cada time:\n",
        "\n",
        "df_corners"
      ],
      "metadata": {
        "colab": {
          "base_uri": "https://localhost:8080/",
          "height": 677
        },
        "id": "sfyaszVhd85G",
        "outputId": "c20316e7-db42-4229-8fc6-49b93692d85f"
      },
      "execution_count": 72,
      "outputs": [
        {
          "output_type": "execute_result",
          "data": {
            "text/plain": [
              "              team  total_corners\n",
              "0         Man City            317\n",
              "1        Liverpool            285\n",
              "2          Chelsea            242\n",
              "3          Arsenal            209\n",
              "4         Brighton            202\n",
              "5      Southampton            234\n",
              "6        Tottenham            195\n",
              "7         West Ham            191\n",
              "8          Burnley            184\n",
              "9          Norwich            165\n",
              "10           Leeds            171\n",
              "11      Man United            199\n",
              "12         Everton            161\n",
              "13       Leicester            185\n",
              "14  Crystal Palace            176\n",
              "15     Aston Villa            196\n",
              "16       Brentford            159\n",
              "17          Wolves            168\n",
              "18         Watford            162\n",
              "19       Newcastle            160"
            ],
            "text/html": [
              "\n",
              "  <div id=\"df-d2fc90d1-83b6-422f-9b6c-9260d97d4d64\">\n",
              "    <div class=\"colab-df-container\">\n",
              "      <div>\n",
              "<style scoped>\n",
              "    .dataframe tbody tr th:only-of-type {\n",
              "        vertical-align: middle;\n",
              "    }\n",
              "\n",
              "    .dataframe tbody tr th {\n",
              "        vertical-align: top;\n",
              "    }\n",
              "\n",
              "    .dataframe thead th {\n",
              "        text-align: right;\n",
              "    }\n",
              "</style>\n",
              "<table border=\"1\" class=\"dataframe\">\n",
              "  <thead>\n",
              "    <tr style=\"text-align: right;\">\n",
              "      <th></th>\n",
              "      <th>team</th>\n",
              "      <th>total_corners</th>\n",
              "    </tr>\n",
              "  </thead>\n",
              "  <tbody>\n",
              "    <tr>\n",
              "      <th>0</th>\n",
              "      <td>Man City</td>\n",
              "      <td>317</td>\n",
              "    </tr>\n",
              "    <tr>\n",
              "      <th>1</th>\n",
              "      <td>Liverpool</td>\n",
              "      <td>285</td>\n",
              "    </tr>\n",
              "    <tr>\n",
              "      <th>2</th>\n",
              "      <td>Chelsea</td>\n",
              "      <td>242</td>\n",
              "    </tr>\n",
              "    <tr>\n",
              "      <th>3</th>\n",
              "      <td>Arsenal</td>\n",
              "      <td>209</td>\n",
              "    </tr>\n",
              "    <tr>\n",
              "      <th>4</th>\n",
              "      <td>Brighton</td>\n",
              "      <td>202</td>\n",
              "    </tr>\n",
              "    <tr>\n",
              "      <th>5</th>\n",
              "      <td>Southampton</td>\n",
              "      <td>234</td>\n",
              "    </tr>\n",
              "    <tr>\n",
              "      <th>6</th>\n",
              "      <td>Tottenham</td>\n",
              "      <td>195</td>\n",
              "    </tr>\n",
              "    <tr>\n",
              "      <th>7</th>\n",
              "      <td>West Ham</td>\n",
              "      <td>191</td>\n",
              "    </tr>\n",
              "    <tr>\n",
              "      <th>8</th>\n",
              "      <td>Burnley</td>\n",
              "      <td>184</td>\n",
              "    </tr>\n",
              "    <tr>\n",
              "      <th>9</th>\n",
              "      <td>Norwich</td>\n",
              "      <td>165</td>\n",
              "    </tr>\n",
              "    <tr>\n",
              "      <th>10</th>\n",
              "      <td>Leeds</td>\n",
              "      <td>171</td>\n",
              "    </tr>\n",
              "    <tr>\n",
              "      <th>11</th>\n",
              "      <td>Man United</td>\n",
              "      <td>199</td>\n",
              "    </tr>\n",
              "    <tr>\n",
              "      <th>12</th>\n",
              "      <td>Everton</td>\n",
              "      <td>161</td>\n",
              "    </tr>\n",
              "    <tr>\n",
              "      <th>13</th>\n",
              "      <td>Leicester</td>\n",
              "      <td>185</td>\n",
              "    </tr>\n",
              "    <tr>\n",
              "      <th>14</th>\n",
              "      <td>Crystal Palace</td>\n",
              "      <td>176</td>\n",
              "    </tr>\n",
              "    <tr>\n",
              "      <th>15</th>\n",
              "      <td>Aston Villa</td>\n",
              "      <td>196</td>\n",
              "    </tr>\n",
              "    <tr>\n",
              "      <th>16</th>\n",
              "      <td>Brentford</td>\n",
              "      <td>159</td>\n",
              "    </tr>\n",
              "    <tr>\n",
              "      <th>17</th>\n",
              "      <td>Wolves</td>\n",
              "      <td>168</td>\n",
              "    </tr>\n",
              "    <tr>\n",
              "      <th>18</th>\n",
              "      <td>Watford</td>\n",
              "      <td>162</td>\n",
              "    </tr>\n",
              "    <tr>\n",
              "      <th>19</th>\n",
              "      <td>Newcastle</td>\n",
              "      <td>160</td>\n",
              "    </tr>\n",
              "  </tbody>\n",
              "</table>\n",
              "</div>\n",
              "      <button class=\"colab-df-convert\" onclick=\"convertToInteractive('df-d2fc90d1-83b6-422f-9b6c-9260d97d4d64')\"\n",
              "              title=\"Convert this dataframe to an interactive table.\"\n",
              "              style=\"display:none;\">\n",
              "        \n",
              "  <svg xmlns=\"http://www.w3.org/2000/svg\" height=\"24px\"viewBox=\"0 0 24 24\"\n",
              "       width=\"24px\">\n",
              "    <path d=\"M0 0h24v24H0V0z\" fill=\"none\"/>\n",
              "    <path d=\"M18.56 5.44l.94 2.06.94-2.06 2.06-.94-2.06-.94-.94-2.06-.94 2.06-2.06.94zm-11 1L8.5 8.5l.94-2.06 2.06-.94-2.06-.94L8.5 2.5l-.94 2.06-2.06.94zm10 10l.94 2.06.94-2.06 2.06-.94-2.06-.94-.94-2.06-.94 2.06-2.06.94z\"/><path d=\"M17.41 7.96l-1.37-1.37c-.4-.4-.92-.59-1.43-.59-.52 0-1.04.2-1.43.59L10.3 9.45l-7.72 7.72c-.78.78-.78 2.05 0 2.83L4 21.41c.39.39.9.59 1.41.59.51 0 1.02-.2 1.41-.59l7.78-7.78 2.81-2.81c.8-.78.8-2.07 0-2.86zM5.41 20L4 18.59l7.72-7.72 1.47 1.35L5.41 20z\"/>\n",
              "  </svg>\n",
              "      </button>\n",
              "      \n",
              "  <style>\n",
              "    .colab-df-container {\n",
              "      display:flex;\n",
              "      flex-wrap:wrap;\n",
              "      gap: 12px;\n",
              "    }\n",
              "\n",
              "    .colab-df-convert {\n",
              "      background-color: #E8F0FE;\n",
              "      border: none;\n",
              "      border-radius: 50%;\n",
              "      cursor: pointer;\n",
              "      display: none;\n",
              "      fill: #1967D2;\n",
              "      height: 32px;\n",
              "      padding: 0 0 0 0;\n",
              "      width: 32px;\n",
              "    }\n",
              "\n",
              "    .colab-df-convert:hover {\n",
              "      background-color: #E2EBFA;\n",
              "      box-shadow: 0px 1px 2px rgba(60, 64, 67, 0.3), 0px 1px 3px 1px rgba(60, 64, 67, 0.15);\n",
              "      fill: #174EA6;\n",
              "    }\n",
              "\n",
              "    [theme=dark] .colab-df-convert {\n",
              "      background-color: #3B4455;\n",
              "      fill: #D2E3FC;\n",
              "    }\n",
              "\n",
              "    [theme=dark] .colab-df-convert:hover {\n",
              "      background-color: #434B5C;\n",
              "      box-shadow: 0px 1px 3px 1px rgba(0, 0, 0, 0.15);\n",
              "      filter: drop-shadow(0px 1px 2px rgba(0, 0, 0, 0.3));\n",
              "      fill: #FFFFFF;\n",
              "    }\n",
              "  </style>\n",
              "\n",
              "      <script>\n",
              "        const buttonEl =\n",
              "          document.querySelector('#df-d2fc90d1-83b6-422f-9b6c-9260d97d4d64 button.colab-df-convert');\n",
              "        buttonEl.style.display =\n",
              "          google.colab.kernel.accessAllowed ? 'block' : 'none';\n",
              "\n",
              "        async function convertToInteractive(key) {\n",
              "          const element = document.querySelector('#df-d2fc90d1-83b6-422f-9b6c-9260d97d4d64');\n",
              "          const dataTable =\n",
              "            await google.colab.kernel.invokeFunction('convertToInteractive',\n",
              "                                                     [key], {});\n",
              "          if (!dataTable) return;\n",
              "\n",
              "          const docLinkHtml = 'Like what you see? Visit the ' +\n",
              "            '<a target=\"_blank\" href=https://colab.research.google.com/notebooks/data_table.ipynb>data table notebook</a>'\n",
              "            + ' to learn more about interactive tables.';\n",
              "          element.innerHTML = '';\n",
              "          dataTable['output_type'] = 'display_data';\n",
              "          await google.colab.output.renderOutput(dataTable, element);\n",
              "          const docLink = document.createElement('div');\n",
              "          docLink.innerHTML = docLinkHtml;\n",
              "          element.appendChild(docLink);\n",
              "        }\n",
              "      </script>\n",
              "    </div>\n",
              "  </div>\n",
              "  "
            ]
          },
          "metadata": {},
          "execution_count": 72
        }
      ]
    },
    {
      "cell_type": "code",
      "source": [
        "# Quantidade de cartões amarelos e vermelhos recebidos por cada time mandante ou visitante:\n",
        "\n",
        "df_cards_team = df.groupby('hometeam').agg({'home_yellow_cards': 'sum',\n",
        "                            'home_red_cards': 'sum'}).sort_values(['home_yellow_cards', \n",
        "                                                                   'home_red_cards'], ascending = False).reset_index(\n",
        "                                                                       \n",
        "                                                                   ).rename(\n",
        "                                                                       columns = {'hometeam': 'team'}\n",
        "                                                                   ).merge(\n",
        "     df.groupby('awayteam').agg({'away_yellow_cards': 'sum',\n",
        "                            'away_red_cards': 'sum'}).sort_values(['away_yellow_cards', \n",
        "                                                                   'away_red_cards'], ascending = False).reset_index(\n",
        "                                                                       \n",
        "                                                    ).rename(\n",
        "                                                          columns = {'awayteam': 'team'}\n",
        "                                                                   )         \n",
        "                                                                   , how = 'inner',\n",
        "                                                                   on = 'team')"
      ],
      "metadata": {
        "id": "YdTs-fw5hMKV"
      },
      "execution_count": 73,
      "outputs": []
    },
    {
      "cell_type": "code",
      "source": [
        "# Quantidade de cartões amarelos e vermelhos recebidos por cada time: \n",
        "\n",
        "df_cards_team = df_cards_team.assign(total_yellow_cards = df_cards_team.home_yellow_cards + df_cards_team.away_yellow_cards,\n",
        "                     total_red_cards = df_cards_team.home_red_cards + df_cards_team.away_red_cards).drop(\n",
        "                         columns = ['home_yellow_cards', 'home_red_cards', \n",
        "                                    'away_yellow_cards','away_red_cards']\n",
        "                     )"
      ],
      "metadata": {
        "id": "0ZpzF_g-hkUH"
      },
      "execution_count": 74,
      "outputs": []
    },
    {
      "cell_type": "code",
      "source": [
        "df_goals_suffered.merge(df_cards_team, how = 'inner', on = 'team').corr()"
      ],
      "metadata": {
        "colab": {
          "base_uri": "https://localhost:8080/",
          "height": 175
        },
        "id": "tY9ZlsJIfOsn",
        "outputId": "1b48b5c3-aec0-45c9-878e-ae47fe1a4037"
      },
      "execution_count": 75,
      "outputs": [
        {
          "output_type": "execute_result",
          "data": {
            "text/plain": [
              "                      total_goals_suffered  total_fouls  total_yellow_cards  \\\n",
              "total_goals_suffered              1.000000     0.415040            0.424727   \n",
              "total_fouls                       0.415040     1.000000            0.740664   \n",
              "total_yellow_cards                0.424727     0.740664            1.000000   \n",
              "total_red_cards                   0.435823     0.011540            0.231613   \n",
              "\n",
              "                      total_red_cards  \n",
              "total_goals_suffered         0.435823  \n",
              "total_fouls                  0.011540  \n",
              "total_yellow_cards           0.231613  \n",
              "total_red_cards              1.000000  "
            ],
            "text/html": [
              "\n",
              "  <div id=\"df-d40a6bc2-93f3-4dcc-8e28-eb32e41f0934\">\n",
              "    <div class=\"colab-df-container\">\n",
              "      <div>\n",
              "<style scoped>\n",
              "    .dataframe tbody tr th:only-of-type {\n",
              "        vertical-align: middle;\n",
              "    }\n",
              "\n",
              "    .dataframe tbody tr th {\n",
              "        vertical-align: top;\n",
              "    }\n",
              "\n",
              "    .dataframe thead th {\n",
              "        text-align: right;\n",
              "    }\n",
              "</style>\n",
              "<table border=\"1\" class=\"dataframe\">\n",
              "  <thead>\n",
              "    <tr style=\"text-align: right;\">\n",
              "      <th></th>\n",
              "      <th>total_goals_suffered</th>\n",
              "      <th>total_fouls</th>\n",
              "      <th>total_yellow_cards</th>\n",
              "      <th>total_red_cards</th>\n",
              "    </tr>\n",
              "  </thead>\n",
              "  <tbody>\n",
              "    <tr>\n",
              "      <th>total_goals_suffered</th>\n",
              "      <td>1.000000</td>\n",
              "      <td>0.415040</td>\n",
              "      <td>0.424727</td>\n",
              "      <td>0.435823</td>\n",
              "    </tr>\n",
              "    <tr>\n",
              "      <th>total_fouls</th>\n",
              "      <td>0.415040</td>\n",
              "      <td>1.000000</td>\n",
              "      <td>0.740664</td>\n",
              "      <td>0.011540</td>\n",
              "    </tr>\n",
              "    <tr>\n",
              "      <th>total_yellow_cards</th>\n",
              "      <td>0.424727</td>\n",
              "      <td>0.740664</td>\n",
              "      <td>1.000000</td>\n",
              "      <td>0.231613</td>\n",
              "    </tr>\n",
              "    <tr>\n",
              "      <th>total_red_cards</th>\n",
              "      <td>0.435823</td>\n",
              "      <td>0.011540</td>\n",
              "      <td>0.231613</td>\n",
              "      <td>1.000000</td>\n",
              "    </tr>\n",
              "  </tbody>\n",
              "</table>\n",
              "</div>\n",
              "      <button class=\"colab-df-convert\" onclick=\"convertToInteractive('df-d40a6bc2-93f3-4dcc-8e28-eb32e41f0934')\"\n",
              "              title=\"Convert this dataframe to an interactive table.\"\n",
              "              style=\"display:none;\">\n",
              "        \n",
              "  <svg xmlns=\"http://www.w3.org/2000/svg\" height=\"24px\"viewBox=\"0 0 24 24\"\n",
              "       width=\"24px\">\n",
              "    <path d=\"M0 0h24v24H0V0z\" fill=\"none\"/>\n",
              "    <path d=\"M18.56 5.44l.94 2.06.94-2.06 2.06-.94-2.06-.94-.94-2.06-.94 2.06-2.06.94zm-11 1L8.5 8.5l.94-2.06 2.06-.94-2.06-.94L8.5 2.5l-.94 2.06-2.06.94zm10 10l.94 2.06.94-2.06 2.06-.94-2.06-.94-.94-2.06-.94 2.06-2.06.94z\"/><path d=\"M17.41 7.96l-1.37-1.37c-.4-.4-.92-.59-1.43-.59-.52 0-1.04.2-1.43.59L10.3 9.45l-7.72 7.72c-.78.78-.78 2.05 0 2.83L4 21.41c.39.39.9.59 1.41.59.51 0 1.02-.2 1.41-.59l7.78-7.78 2.81-2.81c.8-.78.8-2.07 0-2.86zM5.41 20L4 18.59l7.72-7.72 1.47 1.35L5.41 20z\"/>\n",
              "  </svg>\n",
              "      </button>\n",
              "      \n",
              "  <style>\n",
              "    .colab-df-container {\n",
              "      display:flex;\n",
              "      flex-wrap:wrap;\n",
              "      gap: 12px;\n",
              "    }\n",
              "\n",
              "    .colab-df-convert {\n",
              "      background-color: #E8F0FE;\n",
              "      border: none;\n",
              "      border-radius: 50%;\n",
              "      cursor: pointer;\n",
              "      display: none;\n",
              "      fill: #1967D2;\n",
              "      height: 32px;\n",
              "      padding: 0 0 0 0;\n",
              "      width: 32px;\n",
              "    }\n",
              "\n",
              "    .colab-df-convert:hover {\n",
              "      background-color: #E2EBFA;\n",
              "      box-shadow: 0px 1px 2px rgba(60, 64, 67, 0.3), 0px 1px 3px 1px rgba(60, 64, 67, 0.15);\n",
              "      fill: #174EA6;\n",
              "    }\n",
              "\n",
              "    [theme=dark] .colab-df-convert {\n",
              "      background-color: #3B4455;\n",
              "      fill: #D2E3FC;\n",
              "    }\n",
              "\n",
              "    [theme=dark] .colab-df-convert:hover {\n",
              "      background-color: #434B5C;\n",
              "      box-shadow: 0px 1px 3px 1px rgba(0, 0, 0, 0.15);\n",
              "      filter: drop-shadow(0px 1px 2px rgba(0, 0, 0, 0.3));\n",
              "      fill: #FFFFFF;\n",
              "    }\n",
              "  </style>\n",
              "\n",
              "      <script>\n",
              "        const buttonEl =\n",
              "          document.querySelector('#df-d40a6bc2-93f3-4dcc-8e28-eb32e41f0934 button.colab-df-convert');\n",
              "        buttonEl.style.display =\n",
              "          google.colab.kernel.accessAllowed ? 'block' : 'none';\n",
              "\n",
              "        async function convertToInteractive(key) {\n",
              "          const element = document.querySelector('#df-d40a6bc2-93f3-4dcc-8e28-eb32e41f0934');\n",
              "          const dataTable =\n",
              "            await google.colab.kernel.invokeFunction('convertToInteractive',\n",
              "                                                     [key], {});\n",
              "          if (!dataTable) return;\n",
              "\n",
              "          const docLinkHtml = 'Like what you see? Visit the ' +\n",
              "            '<a target=\"_blank\" href=https://colab.research.google.com/notebooks/data_table.ipynb>data table notebook</a>'\n",
              "            + ' to learn more about interactive tables.';\n",
              "          element.innerHTML = '';\n",
              "          dataTable['output_type'] = 'display_data';\n",
              "          await google.colab.output.renderOutput(dataTable, element);\n",
              "          const docLink = document.createElement('div');\n",
              "          docLink.innerHTML = docLinkHtml;\n",
              "          element.appendChild(docLink);\n",
              "        }\n",
              "      </script>\n",
              "    </div>\n",
              "  </div>\n",
              "  "
            ]
          },
          "metadata": {},
          "execution_count": 75
        }
      ]
    },
    {
      "cell_type": "code",
      "source": [
        "# Gráfico de scatterplot para vermos a correlação entre quantidade de faltas cometidas e quantidade de\n",
        "# cartões amarelos aplicados:\n",
        "\n",
        "ax = sns.regplot(data = df_goals_suffered.merge(df_cards_team, how = 'inner', on = 'team'),\n",
        "                 x = 'total_fouls',\n",
        "                 y = 'total_yellow_cards',\n",
        "                 color = sns.color_palette('Spectral')[4])\n",
        "ax.figure.set_size_inches(12, 5)\n",
        "ax.set_xlabel('Faltas Cometidas', fontsize = 12, color = 'k')\n",
        "ax.set_ylabel('Cartões Amarelos Aplicados', fontsize = 12, color = 'k')\n",
        "ax.set_xticklabels([320, 320, 340, 360, 380, 400, 420, 440, 460],\n",
        "                 fontsize = 11, color = 'k')\n",
        "ax.set_yticklabels([40, 40, 50, 60, 70, 80, 90, 100], fontsize = 11, color = 'k')\n",
        "ax.set_title('Correlação - Quantidade de Cartões Amarelos Aplicados X Quantidade de Faltas', fontsize = 13, color = 'k')\n",
        "plt.show()"
      ],
      "metadata": {
        "colab": {
          "base_uri": "https://localhost:8080/",
          "height": 353
        },
        "id": "jwcOjxKrfeQj",
        "outputId": "c8997c2a-35e4-4534-ccd4-1ce95030566c"
      },
      "execution_count": 76,
      "outputs": [
        {
          "output_type": "display_data",
          "data": {
            "text/plain": [
              "<Figure size 864x360 with 1 Axes>"
            ],
            "image/png": "[encoded data removed]"
          },
          "metadata": {}
        }
      ]
    },
    {
      "cell_type": "markdown",
      "source": [
        "#### (13) Qual foi a média e a mediana de gols por partida do campeonato inglês? "
      ],
      "metadata": {
        "id": "wY1cNIeJd0z8"
      }
    },
    {
      "cell_type": "code",
      "source": [
        "# Verificação da média e da mediana de gols marcados por partida:\n",
        "\n",
        "print('Média de Gols Por Partida: ', df.total_goals.mean().round(2))\n",
        "print('\\n')\n",
        "print(f'Mediana de Gols Por Partida: {df.total_goals.median()}')"
      ],
      "metadata": {
        "colab": {
          "base_uri": "https://localhost:8080/"
        },
        "id": "BbkbTsx3dWBH",
        "outputId": "8256a0ee-c456-4484-979e-281d2ba054ff"
      },
      "execution_count": 80,
      "outputs": [
        {
          "output_type": "stream",
          "name": "stdout",
          "text": [
            "Média de Gols Por Partida:  2.82\n",
            "\n",
            "\n",
            "Mediana de Gols Por Partida: 3.0\n"
          ]
        }
      ]
    },
    {
      "cell_type": "markdown",
      "source": [
        "#### (14) Qual foi a frequência de gols por partida do campeonato inglês? "
      ],
      "metadata": {
        "id": "J2r8P_SFexwS"
      }
    },
    {
      "cell_type": "code",
      "source": [
        "# Histograma para vermos como está a distribuição de gols por partida do campeonato inglês:\n",
        "\n",
        "ax = sns.histplot(data = df, x = 'total_goals', kde=True,\n",
        "                  color = sns.color_palette('Spectral')[1])\n",
        "ax.set_ylabel('Frequência de Partidas', fontsize = 12, color = 'k')\n",
        "ax.set_yticklabels(list(range(0, 81, 20)), fontsize = 11, color ='k')\n",
        "ax.set_xlabel('Total de Gols', fontsize = 12, color = 'k')\n",
        "ax.figure.set_size_inches((12, 5))\n",
        "plt.axvline(df.total_goals.mean(), **{'linestyle': '--', 'color': sns.color_palette('Spectral')[0]})\n",
        "ax.set_xticklabels([0, 0, 2, 4, 6, 8], fontsize = 11, color = 'k')\n",
        "plt.show()"
      ],
      "metadata": {
        "colab": {
          "base_uri": "https://localhost:8080/",
          "height": 337
        },
        "id": "7OIKLk7ce2hG",
        "outputId": "442e48a9-b3ab-4b74-f919-752cb3b68c74"
      },
      "execution_count": 78,
      "outputs": [
        {
          "output_type": "display_data",
          "data": {
            "text/plain": [
              "<Figure size 864x360 with 1 Axes>"
            ],
            "image/png": "[encoded data removed]"
          },
          "metadata": {}
        }
      ]
    },
    {
      "cell_type": "code",
      "source": [
        "# Verificação calculacional da assimetria do total de gols por partida:\n",
        "\n",
        "print('Assimetria: ', df.total_goals.skew().round(2))"
      ],
      "metadata": {
        "colab": {
          "base_uri": "https://localhost:8080/"
        },
        "id": "IRuuYGEWjNdH",
        "outputId": "cb3aa74f-6c48-4f21-bec6-e58024a60a3d"
      },
      "execution_count": 79,
      "outputs": [
        {
          "output_type": "stream",
          "name": "stdout",
          "text": [
            "Assimetria:  0.38\n"
          ]
        }
      ]
    },
    {
      "cell_type": "markdown",
      "source": [
        "## ANÁLISE EXPLORATÓRIA FINALIZADA."
      ],
      "metadata": {
        "id": "8w5_gd7Ei6Eo"
      }
    }
  ],
  "metadata": {
    "colab": {
      "collapsed_sections": [],
      "provenance": [],
      "mount_file_id": "12e6KxEyakjR-F2l4MVJOa65Jb8MCy0-g",
      "authorship_tag": "ABX9TyP4SbTAxAFDeow3Ei70henb",
      "include_colab_link": true
    },
    "kernelspec": {
      "display_name": "Python 3",
      "name": "python3"
    },
    "language_info": {
      "name": "python"
    }
  },
  "nbformat": 4,
  "nbformat_minor": 0
}